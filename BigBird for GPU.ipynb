{
  "nbformat": 4,
  "nbformat_minor": 0,
  "metadata": {
    "accelerator": "GPU",
    "colab": {
      "name": "BigBirdGPU .ipynb",
      "provenance": [],
      "collapsed_sections": []
    },
    "kernelspec": {
      "display_name": "Python 3",
      "name": "python3"
    },
    "widgets": {
      "application/vnd.jupyter.widget-state+json": {
        "37a20d4836e14bfd985a4d8480bc74af": {
          "model_module": "@jupyter-widgets/controls",
          "model_name": "HBoxModel",
          "model_module_version": "1.5.0",
          "state": {
            "_view_name": "HBoxView",
            "_dom_classes": [],
            "_model_name": "HBoxModel",
            "_view_module": "@jupyter-widgets/controls",
            "_model_module_version": "1.5.0",
            "_view_count": null,
            "_view_module_version": "1.5.0",
            "box_style": "",
            "layout": "IPY_MODEL_cd15439d98bd4799b9bd6a4cb33911d6",
            "_model_module": "@jupyter-widgets/controls",
            "children": [
              "IPY_MODEL_b04db190d1fd43a6b8dd8218bf880e37",
              "IPY_MODEL_65ad929cc168488493133acca8187f7f"
            ]
          }
        },
        "cd15439d98bd4799b9bd6a4cb33911d6": {
          "model_module": "@jupyter-widgets/base",
          "model_name": "LayoutModel",
          "model_module_version": "1.2.0",
          "state": {
            "_view_name": "LayoutView",
            "grid_template_rows": null,
            "right": null,
            "justify_content": null,
            "_view_module": "@jupyter-widgets/base",
            "overflow": null,
            "_model_module_version": "1.2.0",
            "_view_count": null,
            "flex_flow": null,
            "width": null,
            "min_width": null,
            "border": null,
            "align_items": null,
            "bottom": null,
            "_model_module": "@jupyter-widgets/base",
            "top": null,
            "grid_column": null,
            "overflow_y": null,
            "overflow_x": null,
            "grid_auto_flow": null,
            "grid_area": null,
            "grid_template_columns": null,
            "flex": null,
            "_model_name": "LayoutModel",
            "justify_items": null,
            "grid_row": null,
            "max_height": null,
            "align_content": null,
            "visibility": null,
            "align_self": null,
            "height": null,
            "min_height": null,
            "padding": null,
            "grid_auto_rows": null,
            "grid_gap": null,
            "max_width": null,
            "order": null,
            "_view_module_version": "1.2.0",
            "grid_template_areas": null,
            "object_position": null,
            "object_fit": null,
            "grid_auto_columns": null,
            "margin": null,
            "display": null,
            "left": null
          }
        },
        "b04db190d1fd43a6b8dd8218bf880e37": {
          "model_module": "@jupyter-widgets/controls",
          "model_name": "FloatProgressModel",
          "model_module_version": "1.5.0",
          "state": {
            "_view_name": "ProgressView",
            "style": "IPY_MODEL_db353f70ee6248ef9337ca73093527e7",
            "_dom_classes": [],
            "description": "Dl Completed...: 100%",
            "_model_name": "FloatProgressModel",
            "bar_style": "success",
            "max": 1,
            "_view_module": "@jupyter-widgets/controls",
            "_model_module_version": "1.5.0",
            "value": 1,
            "_view_count": null,
            "_view_module_version": "1.5.0",
            "orientation": "horizontal",
            "min": 0,
            "description_tooltip": null,
            "_model_module": "@jupyter-widgets/controls",
            "layout": "IPY_MODEL_14266013892c4878b89d4ea4285c79f9"
          }
        },
        "65ad929cc168488493133acca8187f7f": {
          "model_module": "@jupyter-widgets/controls",
          "model_name": "HTMLModel",
          "model_module_version": "1.5.0",
          "state": {
            "_view_name": "HTMLView",
            "style": "IPY_MODEL_d038541705384ec2aade7698065a0d96",
            "_dom_classes": [],
            "description": "",
            "_model_name": "HTMLModel",
            "placeholder": "​",
            "_view_module": "@jupyter-widgets/controls",
            "_model_module_version": "1.5.0",
            "value": " 2/2 [09:45&lt;00:00, 292.67s/ url]",
            "_view_count": null,
            "_view_module_version": "1.5.0",
            "description_tooltip": null,
            "_model_module": "@jupyter-widgets/controls",
            "layout": "IPY_MODEL_863d7c01b46c424e88b5fe44e3c299c5"
          }
        },
        "db353f70ee6248ef9337ca73093527e7": {
          "model_module": "@jupyter-widgets/controls",
          "model_name": "ProgressStyleModel",
          "model_module_version": "1.5.0",
          "state": {
            "_view_name": "StyleView",
            "_model_name": "ProgressStyleModel",
            "description_width": "initial",
            "_view_module": "@jupyter-widgets/base",
            "_model_module_version": "1.5.0",
            "_view_count": null,
            "_view_module_version": "1.2.0",
            "bar_color": null,
            "_model_module": "@jupyter-widgets/controls"
          }
        },
        "14266013892c4878b89d4ea4285c79f9": {
          "model_module": "@jupyter-widgets/base",
          "model_name": "LayoutModel",
          "model_module_version": "1.2.0",
          "state": {
            "_view_name": "LayoutView",
            "grid_template_rows": null,
            "right": null,
            "justify_content": null,
            "_view_module": "@jupyter-widgets/base",
            "overflow": null,
            "_model_module_version": "1.2.0",
            "_view_count": null,
            "flex_flow": null,
            "width": null,
            "min_width": null,
            "border": null,
            "align_items": null,
            "bottom": null,
            "_model_module": "@jupyter-widgets/base",
            "top": null,
            "grid_column": null,
            "overflow_y": null,
            "overflow_x": null,
            "grid_auto_flow": null,
            "grid_area": null,
            "grid_template_columns": null,
            "flex": null,
            "_model_name": "LayoutModel",
            "justify_items": null,
            "grid_row": null,
            "max_height": null,
            "align_content": null,
            "visibility": null,
            "align_self": null,
            "height": null,
            "min_height": null,
            "padding": null,
            "grid_auto_rows": null,
            "grid_gap": null,
            "max_width": null,
            "order": null,
            "_view_module_version": "1.2.0",
            "grid_template_areas": null,
            "object_position": null,
            "object_fit": null,
            "grid_auto_columns": null,
            "margin": null,
            "display": null,
            "left": null
          }
        },
        "d038541705384ec2aade7698065a0d96": {
          "model_module": "@jupyter-widgets/controls",
          "model_name": "DescriptionStyleModel",
          "model_module_version": "1.5.0",
          "state": {
            "_view_name": "StyleView",
            "_model_name": "DescriptionStyleModel",
            "description_width": "",
            "_view_module": "@jupyter-widgets/base",
            "_model_module_version": "1.5.0",
            "_view_count": null,
            "_view_module_version": "1.2.0",
            "_model_module": "@jupyter-widgets/controls"
          }
        },
        "863d7c01b46c424e88b5fe44e3c299c5": {
          "model_module": "@jupyter-widgets/base",
          "model_name": "LayoutModel",
          "model_module_version": "1.2.0",
          "state": {
            "_view_name": "LayoutView",
            "grid_template_rows": null,
            "right": null,
            "justify_content": null,
            "_view_module": "@jupyter-widgets/base",
            "overflow": null,
            "_model_module_version": "1.2.0",
            "_view_count": null,
            "flex_flow": null,
            "width": null,
            "min_width": null,
            "border": null,
            "align_items": null,
            "bottom": null,
            "_model_module": "@jupyter-widgets/base",
            "top": null,
            "grid_column": null,
            "overflow_y": null,
            "overflow_x": null,
            "grid_auto_flow": null,
            "grid_area": null,
            "grid_template_columns": null,
            "flex": null,
            "_model_name": "LayoutModel",
            "justify_items": null,
            "grid_row": null,
            "max_height": null,
            "align_content": null,
            "visibility": null,
            "align_self": null,
            "height": null,
            "min_height": null,
            "padding": null,
            "grid_auto_rows": null,
            "grid_gap": null,
            "max_width": null,
            "order": null,
            "_view_module_version": "1.2.0",
            "grid_template_areas": null,
            "object_position": null,
            "object_fit": null,
            "grid_auto_columns": null,
            "margin": null,
            "display": null,
            "left": null
          }
        },
        "ce5cc2f8d3fd45079a3f8b16f5277776": {
          "model_module": "@jupyter-widgets/controls",
          "model_name": "HBoxModel",
          "model_module_version": "1.5.0",
          "state": {
            "_view_name": "HBoxView",
            "_dom_classes": [],
            "_model_name": "HBoxModel",
            "_view_module": "@jupyter-widgets/controls",
            "_model_module_version": "1.5.0",
            "_view_count": null,
            "_view_module_version": "1.5.0",
            "box_style": "",
            "layout": "IPY_MODEL_1cfd129cd2e1472fbdaf100eb86f8317",
            "_model_module": "@jupyter-widgets/controls",
            "children": [
              "IPY_MODEL_3a83587b46674900acfeb6b254786f80",
              "IPY_MODEL_dc5c8d657a0b415aa6cff8792c31f73b"
            ]
          }
        },
        "1cfd129cd2e1472fbdaf100eb86f8317": {
          "model_module": "@jupyter-widgets/base",
          "model_name": "LayoutModel",
          "model_module_version": "1.2.0",
          "state": {
            "_view_name": "LayoutView",
            "grid_template_rows": null,
            "right": null,
            "justify_content": null,
            "_view_module": "@jupyter-widgets/base",
            "overflow": null,
            "_model_module_version": "1.2.0",
            "_view_count": null,
            "flex_flow": null,
            "width": null,
            "min_width": null,
            "border": null,
            "align_items": null,
            "bottom": null,
            "_model_module": "@jupyter-widgets/base",
            "top": null,
            "grid_column": null,
            "overflow_y": null,
            "overflow_x": null,
            "grid_auto_flow": null,
            "grid_area": null,
            "grid_template_columns": null,
            "flex": null,
            "_model_name": "LayoutModel",
            "justify_items": null,
            "grid_row": null,
            "max_height": null,
            "align_content": null,
            "visibility": null,
            "align_self": null,
            "height": null,
            "min_height": null,
            "padding": null,
            "grid_auto_rows": null,
            "grid_gap": null,
            "max_width": null,
            "order": null,
            "_view_module_version": "1.2.0",
            "grid_template_areas": null,
            "object_position": null,
            "object_fit": null,
            "grid_auto_columns": null,
            "margin": null,
            "display": null,
            "left": null
          }
        },
        "3a83587b46674900acfeb6b254786f80": {
          "model_module": "@jupyter-widgets/controls",
          "model_name": "FloatProgressModel",
          "model_module_version": "1.5.0",
          "state": {
            "_view_name": "ProgressView",
            "style": "IPY_MODEL_26e2d7fca4cd48ab9afc64c58d4a7abe",
            "_dom_classes": [],
            "description": "Dl Size...: ",
            "_model_name": "FloatProgressModel",
            "bar_style": "success",
            "max": 1,
            "_view_module": "@jupyter-widgets/controls",
            "_model_module_version": "1.5.0",
            "value": 1,
            "_view_count": null,
            "_view_module_version": "1.5.0",
            "orientation": "horizontal",
            "min": 0,
            "description_tooltip": null,
            "_model_module": "@jupyter-widgets/controls",
            "layout": "IPY_MODEL_4118fc1ff99e4e77842b63c169a9cbac"
          }
        },
        "dc5c8d657a0b415aa6cff8792c31f73b": {
          "model_module": "@jupyter-widgets/controls",
          "model_name": "HTMLModel",
          "model_module_version": "1.5.0",
          "state": {
            "_view_name": "HTMLView",
            "style": "IPY_MODEL_8b231929173e4380aaf71cb5121d39ef",
            "_dom_classes": [],
            "description": "",
            "_model_name": "HTMLModel",
            "placeholder": "​",
            "_view_module": "@jupyter-widgets/controls",
            "_model_module_version": "1.5.0",
            "value": " 4295/0 [09:45&lt;00:00,  7.34 MiB/s]",
            "_view_count": null,
            "_view_module_version": "1.5.0",
            "description_tooltip": null,
            "_model_module": "@jupyter-widgets/controls",
            "layout": "IPY_MODEL_0e87da1343bf48cfaece25c0e0f93756"
          }
        },
        "26e2d7fca4cd48ab9afc64c58d4a7abe": {
          "model_module": "@jupyter-widgets/controls",
          "model_name": "ProgressStyleModel",
          "model_module_version": "1.5.0",
          "state": {
            "_view_name": "StyleView",
            "_model_name": "ProgressStyleModel",
            "description_width": "initial",
            "_view_module": "@jupyter-widgets/base",
            "_model_module_version": "1.5.0",
            "_view_count": null,
            "_view_module_version": "1.2.0",
            "bar_color": null,
            "_model_module": "@jupyter-widgets/controls"
          }
        },
        "4118fc1ff99e4e77842b63c169a9cbac": {
          "model_module": "@jupyter-widgets/base",
          "model_name": "LayoutModel",
          "model_module_version": "1.2.0",
          "state": {
            "_view_name": "LayoutView",
            "grid_template_rows": null,
            "right": null,
            "justify_content": null,
            "_view_module": "@jupyter-widgets/base",
            "overflow": null,
            "_model_module_version": "1.2.0",
            "_view_count": null,
            "flex_flow": null,
            "width": null,
            "min_width": null,
            "border": null,
            "align_items": null,
            "bottom": null,
            "_model_module": "@jupyter-widgets/base",
            "top": null,
            "grid_column": null,
            "overflow_y": null,
            "overflow_x": null,
            "grid_auto_flow": null,
            "grid_area": null,
            "grid_template_columns": null,
            "flex": null,
            "_model_name": "LayoutModel",
            "justify_items": null,
            "grid_row": null,
            "max_height": null,
            "align_content": null,
            "visibility": null,
            "align_self": null,
            "height": null,
            "min_height": null,
            "padding": null,
            "grid_auto_rows": null,
            "grid_gap": null,
            "max_width": null,
            "order": null,
            "_view_module_version": "1.2.0",
            "grid_template_areas": null,
            "object_position": null,
            "object_fit": null,
            "grid_auto_columns": null,
            "margin": null,
            "display": null,
            "left": null
          }
        },
        "8b231929173e4380aaf71cb5121d39ef": {
          "model_module": "@jupyter-widgets/controls",
          "model_name": "DescriptionStyleModel",
          "model_module_version": "1.5.0",
          "state": {
            "_view_name": "StyleView",
            "_model_name": "DescriptionStyleModel",
            "description_width": "",
            "_view_module": "@jupyter-widgets/base",
            "_model_module_version": "1.5.0",
            "_view_count": null,
            "_view_module_version": "1.2.0",
            "_model_module": "@jupyter-widgets/controls"
          }
        },
        "0e87da1343bf48cfaece25c0e0f93756": {
          "model_module": "@jupyter-widgets/base",
          "model_name": "LayoutModel",
          "model_module_version": "1.2.0",
          "state": {
            "_view_name": "LayoutView",
            "grid_template_rows": null,
            "right": null,
            "justify_content": null,
            "_view_module": "@jupyter-widgets/base",
            "overflow": null,
            "_model_module_version": "1.2.0",
            "_view_count": null,
            "flex_flow": null,
            "width": null,
            "min_width": null,
            "border": null,
            "align_items": null,
            "bottom": null,
            "_model_module": "@jupyter-widgets/base",
            "top": null,
            "grid_column": null,
            "overflow_y": null,
            "overflow_x": null,
            "grid_auto_flow": null,
            "grid_area": null,
            "grid_template_columns": null,
            "flex": null,
            "_model_name": "LayoutModel",
            "justify_items": null,
            "grid_row": null,
            "max_height": null,
            "align_content": null,
            "visibility": null,
            "align_self": null,
            "height": null,
            "min_height": null,
            "padding": null,
            "grid_auto_rows": null,
            "grid_gap": null,
            "max_width": null,
            "order": null,
            "_view_module_version": "1.2.0",
            "grid_template_areas": null,
            "object_position": null,
            "object_fit": null,
            "grid_auto_columns": null,
            "margin": null,
            "display": null,
            "left": null
          }
        },
        "68d95ccb4afb4665ac3533eff7a31f50": {
          "model_module": "@jupyter-widgets/controls",
          "model_name": "HBoxModel",
          "model_module_version": "1.5.0",
          "state": {
            "_view_name": "HBoxView",
            "_dom_classes": [],
            "_model_name": "HBoxModel",
            "_view_module": "@jupyter-widgets/controls",
            "_model_module_version": "1.5.0",
            "_view_count": null,
            "_view_module_version": "1.5.0",
            "box_style": "",
            "layout": "IPY_MODEL_c3726245fe1e4cb0ab66d6c726882af8",
            "_model_module": "@jupyter-widgets/controls",
            "children": [
              "IPY_MODEL_7f9adc63fc5a4eef80fc76eac772942a",
              "IPY_MODEL_e35c25e3f2c94eb3b9a40ca4f75bc4e2"
            ]
          }
        },
        "c3726245fe1e4cb0ab66d6c726882af8": {
          "model_module": "@jupyter-widgets/base",
          "model_name": "LayoutModel",
          "model_module_version": "1.2.0",
          "state": {
            "_view_name": "LayoutView",
            "grid_template_rows": null,
            "right": null,
            "justify_content": null,
            "_view_module": "@jupyter-widgets/base",
            "overflow": null,
            "_model_module_version": "1.2.0",
            "_view_count": null,
            "flex_flow": null,
            "width": null,
            "min_width": null,
            "border": null,
            "align_items": null,
            "bottom": null,
            "_model_module": "@jupyter-widgets/base",
            "top": null,
            "grid_column": null,
            "overflow_y": null,
            "overflow_x": null,
            "grid_auto_flow": null,
            "grid_area": null,
            "grid_template_columns": null,
            "flex": null,
            "_model_name": "LayoutModel",
            "justify_items": null,
            "grid_row": null,
            "max_height": null,
            "align_content": null,
            "visibility": null,
            "align_self": null,
            "height": null,
            "min_height": null,
            "padding": null,
            "grid_auto_rows": null,
            "grid_gap": null,
            "max_width": null,
            "order": null,
            "_view_module_version": "1.2.0",
            "grid_template_areas": null,
            "object_position": null,
            "object_fit": null,
            "grid_auto_columns": null,
            "margin": null,
            "display": null,
            "left": null
          }
        },
        "7f9adc63fc5a4eef80fc76eac772942a": {
          "model_module": "@jupyter-widgets/controls",
          "model_name": "FloatProgressModel",
          "model_module_version": "1.5.0",
          "state": {
            "_view_name": "ProgressView",
            "style": "IPY_MODEL_ad07e698200a441385143e8fe4a79da9",
            "_dom_classes": [],
            "description": "Extraction completed...: 100%",
            "_model_name": "FloatProgressModel",
            "bar_style": "success",
            "max": 1,
            "_view_module": "@jupyter-widgets/controls",
            "_model_module_version": "1.5.0",
            "value": 1,
            "_view_count": null,
            "_view_module_version": "1.5.0",
            "orientation": "horizontal",
            "min": 0,
            "description_tooltip": null,
            "_model_module": "@jupyter-widgets/controls",
            "layout": "IPY_MODEL_ebb7df71c05e41f0943300335db501e3"
          }
        },
        "e35c25e3f2c94eb3b9a40ca4f75bc4e2": {
          "model_module": "@jupyter-widgets/controls",
          "model_name": "HTMLModel",
          "model_module_version": "1.5.0",
          "state": {
            "_view_name": "HTMLView",
            "style": "IPY_MODEL_fae1d148f26c4c18994f4a34f7470b89",
            "_dom_classes": [],
            "description": "",
            "_model_name": "HTMLModel",
            "placeholder": "​",
            "_view_module": "@jupyter-widgets/controls",
            "_model_module_version": "1.5.0",
            "value": " 2/2 [09:45&lt;00:00, 292.63s/ file]",
            "_view_count": null,
            "_view_module_version": "1.5.0",
            "description_tooltip": null,
            "_model_module": "@jupyter-widgets/controls",
            "layout": "IPY_MODEL_5df4bdf9d9224b2893a3a4903d35075c"
          }
        },
        "ad07e698200a441385143e8fe4a79da9": {
          "model_module": "@jupyter-widgets/controls",
          "model_name": "ProgressStyleModel",
          "model_module_version": "1.5.0",
          "state": {
            "_view_name": "StyleView",
            "_model_name": "ProgressStyleModel",
            "description_width": "initial",
            "_view_module": "@jupyter-widgets/base",
            "_model_module_version": "1.5.0",
            "_view_count": null,
            "_view_module_version": "1.2.0",
            "bar_color": null,
            "_model_module": "@jupyter-widgets/controls"
          }
        },
        "ebb7df71c05e41f0943300335db501e3": {
          "model_module": "@jupyter-widgets/base",
          "model_name": "LayoutModel",
          "model_module_version": "1.2.0",
          "state": {
            "_view_name": "LayoutView",
            "grid_template_rows": null,
            "right": null,
            "justify_content": null,
            "_view_module": "@jupyter-widgets/base",
            "overflow": null,
            "_model_module_version": "1.2.0",
            "_view_count": null,
            "flex_flow": null,
            "width": null,
            "min_width": null,
            "border": null,
            "align_items": null,
            "bottom": null,
            "_model_module": "@jupyter-widgets/base",
            "top": null,
            "grid_column": null,
            "overflow_y": null,
            "overflow_x": null,
            "grid_auto_flow": null,
            "grid_area": null,
            "grid_template_columns": null,
            "flex": null,
            "_model_name": "LayoutModel",
            "justify_items": null,
            "grid_row": null,
            "max_height": null,
            "align_content": null,
            "visibility": null,
            "align_self": null,
            "height": null,
            "min_height": null,
            "padding": null,
            "grid_auto_rows": null,
            "grid_gap": null,
            "max_width": null,
            "order": null,
            "_view_module_version": "1.2.0",
            "grid_template_areas": null,
            "object_position": null,
            "object_fit": null,
            "grid_auto_columns": null,
            "margin": null,
            "display": null,
            "left": null
          }
        },
        "fae1d148f26c4c18994f4a34f7470b89": {
          "model_module": "@jupyter-widgets/controls",
          "model_name": "DescriptionStyleModel",
          "model_module_version": "1.5.0",
          "state": {
            "_view_name": "StyleView",
            "_model_name": "DescriptionStyleModel",
            "description_width": "",
            "_view_module": "@jupyter-widgets/base",
            "_model_module_version": "1.5.0",
            "_view_count": null,
            "_view_module_version": "1.2.0",
            "_model_module": "@jupyter-widgets/controls"
          }
        },
        "5df4bdf9d9224b2893a3a4903d35075c": {
          "model_module": "@jupyter-widgets/base",
          "model_name": "LayoutModel",
          "model_module_version": "1.2.0",
          "state": {
            "_view_name": "LayoutView",
            "grid_template_rows": null,
            "right": null,
            "justify_content": null,
            "_view_module": "@jupyter-widgets/base",
            "overflow": null,
            "_model_module_version": "1.2.0",
            "_view_count": null,
            "flex_flow": null,
            "width": null,
            "min_width": null,
            "border": null,
            "align_items": null,
            "bottom": null,
            "_model_module": "@jupyter-widgets/base",
            "top": null,
            "grid_column": null,
            "overflow_y": null,
            "overflow_x": null,
            "grid_auto_flow": null,
            "grid_area": null,
            "grid_template_columns": null,
            "flex": null,
            "_model_name": "LayoutModel",
            "justify_items": null,
            "grid_row": null,
            "max_height": null,
            "align_content": null,
            "visibility": null,
            "align_self": null,
            "height": null,
            "min_height": null,
            "padding": null,
            "grid_auto_rows": null,
            "grid_gap": null,
            "max_width": null,
            "order": null,
            "_view_module_version": "1.2.0",
            "grid_template_areas": null,
            "object_position": null,
            "object_fit": null,
            "grid_auto_columns": null,
            "margin": null,
            "display": null,
            "left": null
          }
        },
        "93c8e31e6e0244a8b357628172f7a858": {
          "model_module": "@jupyter-widgets/controls",
          "model_name": "HBoxModel",
          "model_module_version": "1.5.0",
          "state": {
            "_view_name": "HBoxView",
            "_dom_classes": [],
            "_model_name": "HBoxModel",
            "_view_module": "@jupyter-widgets/controls",
            "_model_module_version": "1.5.0",
            "_view_count": null,
            "_view_module_version": "1.5.0",
            "box_style": "",
            "layout": "IPY_MODEL_505dcd77247d4ba992d4f49ce9aaea47",
            "_model_module": "@jupyter-widgets/controls",
            "children": [
              "IPY_MODEL_d47df153f8b04cd58866d6cc341be8c7",
              "IPY_MODEL_2da9da9ac42444a8928752742500dbde"
            ]
          }
        },
        "505dcd77247d4ba992d4f49ce9aaea47": {
          "model_module": "@jupyter-widgets/base",
          "model_name": "LayoutModel",
          "model_module_version": "1.2.0",
          "state": {
            "_view_name": "LayoutView",
            "grid_template_rows": null,
            "right": null,
            "justify_content": null,
            "_view_module": "@jupyter-widgets/base",
            "overflow": null,
            "_model_module_version": "1.2.0",
            "_view_count": null,
            "flex_flow": null,
            "width": null,
            "min_width": null,
            "border": null,
            "align_items": null,
            "bottom": null,
            "_model_module": "@jupyter-widgets/base",
            "top": null,
            "grid_column": null,
            "overflow_y": null,
            "overflow_x": null,
            "grid_auto_flow": null,
            "grid_area": null,
            "grid_template_columns": null,
            "flex": null,
            "_model_name": "LayoutModel",
            "justify_items": null,
            "grid_row": null,
            "max_height": null,
            "align_content": null,
            "visibility": null,
            "align_self": null,
            "height": null,
            "min_height": null,
            "padding": null,
            "grid_auto_rows": null,
            "grid_gap": null,
            "max_width": null,
            "order": null,
            "_view_module_version": "1.2.0",
            "grid_template_areas": null,
            "object_position": null,
            "object_fit": null,
            "grid_auto_columns": null,
            "margin": null,
            "display": null,
            "left": null
          }
        },
        "d47df153f8b04cd58866d6cc341be8c7": {
          "model_module": "@jupyter-widgets/controls",
          "model_name": "FloatProgressModel",
          "model_module_version": "1.5.0",
          "state": {
            "_view_name": "ProgressView",
            "style": "IPY_MODEL_12cb29019c534e3bb492ede3928515f9",
            "_dom_classes": [],
            "description": "Generating splits...: 100%",
            "_model_name": "FloatProgressModel",
            "bar_style": "",
            "max": 3,
            "_view_module": "@jupyter-widgets/controls",
            "_model_module_version": "1.5.0",
            "value": 3,
            "_view_count": null,
            "_view_module_version": "1.5.0",
            "orientation": "horizontal",
            "min": 0,
            "description_tooltip": null,
            "_model_module": "@jupyter-widgets/controls",
            "layout": "IPY_MODEL_27e96dec0257436c8f56a22874afdc8c"
          }
        },
        "2da9da9ac42444a8928752742500dbde": {
          "model_module": "@jupyter-widgets/controls",
          "model_name": "HTMLModel",
          "model_module_version": "1.5.0",
          "state": {
            "_view_name": "HTMLView",
            "style": "IPY_MODEL_d75bbe0912124b18a088f45eff8c23f6",
            "_dom_classes": [],
            "description": "",
            "_model_name": "HTMLModel",
            "placeholder": "​",
            "_view_module": "@jupyter-widgets/controls",
            "_model_module_version": "1.5.0",
            "value": " 3/3 [02:56&lt;00:00, 82.12s/ splits]",
            "_view_count": null,
            "_view_module_version": "1.5.0",
            "description_tooltip": null,
            "_model_module": "@jupyter-widgets/controls",
            "layout": "IPY_MODEL_28a705f034434f6f8c37bf57d24730f3"
          }
        },
        "12cb29019c534e3bb492ede3928515f9": {
          "model_module": "@jupyter-widgets/controls",
          "model_name": "ProgressStyleModel",
          "model_module_version": "1.5.0",
          "state": {
            "_view_name": "StyleView",
            "_model_name": "ProgressStyleModel",
            "description_width": "initial",
            "_view_module": "@jupyter-widgets/base",
            "_model_module_version": "1.5.0",
            "_view_count": null,
            "_view_module_version": "1.2.0",
            "bar_color": null,
            "_model_module": "@jupyter-widgets/controls"
          }
        },
        "27e96dec0257436c8f56a22874afdc8c": {
          "model_module": "@jupyter-widgets/base",
          "model_name": "LayoutModel",
          "model_module_version": "1.2.0",
          "state": {
            "_view_name": "LayoutView",
            "grid_template_rows": null,
            "right": null,
            "justify_content": null,
            "_view_module": "@jupyter-widgets/base",
            "overflow": null,
            "_model_module_version": "1.2.0",
            "_view_count": null,
            "flex_flow": null,
            "width": null,
            "min_width": null,
            "border": null,
            "align_items": null,
            "bottom": null,
            "_model_module": "@jupyter-widgets/base",
            "top": null,
            "grid_column": null,
            "overflow_y": null,
            "overflow_x": null,
            "grid_auto_flow": null,
            "grid_area": null,
            "grid_template_columns": null,
            "flex": null,
            "_model_name": "LayoutModel",
            "justify_items": null,
            "grid_row": null,
            "max_height": null,
            "align_content": null,
            "visibility": null,
            "align_self": null,
            "height": null,
            "min_height": null,
            "padding": null,
            "grid_auto_rows": null,
            "grid_gap": null,
            "max_width": null,
            "order": null,
            "_view_module_version": "1.2.0",
            "grid_template_areas": null,
            "object_position": null,
            "object_fit": null,
            "grid_auto_columns": null,
            "margin": null,
            "display": null,
            "left": null
          }
        },
        "d75bbe0912124b18a088f45eff8c23f6": {
          "model_module": "@jupyter-widgets/controls",
          "model_name": "DescriptionStyleModel",
          "model_module_version": "1.5.0",
          "state": {
            "_view_name": "StyleView",
            "_model_name": "DescriptionStyleModel",
            "description_width": "",
            "_view_module": "@jupyter-widgets/base",
            "_model_module_version": "1.5.0",
            "_view_count": null,
            "_view_module_version": "1.2.0",
            "_model_module": "@jupyter-widgets/controls"
          }
        },
        "28a705f034434f6f8c37bf57d24730f3": {
          "model_module": "@jupyter-widgets/base",
          "model_name": "LayoutModel",
          "model_module_version": "1.2.0",
          "state": {
            "_view_name": "LayoutView",
            "grid_template_rows": null,
            "right": null,
            "justify_content": null,
            "_view_module": "@jupyter-widgets/base",
            "overflow": null,
            "_model_module_version": "1.2.0",
            "_view_count": null,
            "flex_flow": null,
            "width": null,
            "min_width": null,
            "border": null,
            "align_items": null,
            "bottom": null,
            "_model_module": "@jupyter-widgets/base",
            "top": null,
            "grid_column": null,
            "overflow_y": null,
            "overflow_x": null,
            "grid_auto_flow": null,
            "grid_area": null,
            "grid_template_columns": null,
            "flex": null,
            "_model_name": "LayoutModel",
            "justify_items": null,
            "grid_row": null,
            "max_height": null,
            "align_content": null,
            "visibility": null,
            "align_self": null,
            "height": null,
            "min_height": null,
            "padding": null,
            "grid_auto_rows": null,
            "grid_gap": null,
            "max_width": null,
            "order": null,
            "_view_module_version": "1.2.0",
            "grid_template_areas": null,
            "object_position": null,
            "object_fit": null,
            "grid_auto_columns": null,
            "margin": null,
            "display": null,
            "left": null
          }
        },
        "9fd6207c9a6a4cd4a004649fb4796559": {
          "model_module": "@jupyter-widgets/controls",
          "model_name": "HBoxModel",
          "model_module_version": "1.5.0",
          "state": {
            "_view_name": "HBoxView",
            "_dom_classes": [],
            "_model_name": "HBoxModel",
            "_view_module": "@jupyter-widgets/controls",
            "_model_module_version": "1.5.0",
            "_view_count": null,
            "_view_module_version": "1.5.0",
            "box_style": "",
            "layout": "IPY_MODEL_d37578a24bc74da29a8a31f762edbd9a",
            "_model_module": "@jupyter-widgets/controls",
            "children": [
              "IPY_MODEL_e9e6efa767024db9b980b24c49992609",
              "IPY_MODEL_16dd19bc880a459cb6323fd4694d51d7"
            ]
          }
        },
        "d37578a24bc74da29a8a31f762edbd9a": {
          "model_module": "@jupyter-widgets/base",
          "model_name": "LayoutModel",
          "model_module_version": "1.2.0",
          "state": {
            "_view_name": "LayoutView",
            "grid_template_rows": null,
            "right": null,
            "justify_content": null,
            "_view_module": "@jupyter-widgets/base",
            "overflow": null,
            "_model_module_version": "1.2.0",
            "_view_count": null,
            "flex_flow": null,
            "width": null,
            "min_width": null,
            "border": null,
            "align_items": null,
            "bottom": null,
            "_model_module": "@jupyter-widgets/base",
            "top": null,
            "grid_column": null,
            "overflow_y": null,
            "overflow_x": null,
            "grid_auto_flow": null,
            "grid_area": null,
            "grid_template_columns": null,
            "flex": null,
            "_model_name": "LayoutModel",
            "justify_items": null,
            "grid_row": null,
            "max_height": null,
            "align_content": null,
            "visibility": null,
            "align_self": null,
            "height": null,
            "min_height": null,
            "padding": null,
            "grid_auto_rows": null,
            "grid_gap": null,
            "max_width": null,
            "order": null,
            "_view_module_version": "1.2.0",
            "grid_template_areas": null,
            "object_position": null,
            "object_fit": null,
            "grid_auto_columns": null,
            "margin": null,
            "display": null,
            "left": null
          }
        },
        "e9e6efa767024db9b980b24c49992609": {
          "model_module": "@jupyter-widgets/controls",
          "model_name": "FloatProgressModel",
          "model_module_version": "1.5.0",
          "state": {
            "_view_name": "ProgressView",
            "style": "IPY_MODEL_b50ba5254c434ae0b80a701aa3200590",
            "_dom_classes": [],
            "description": "Generating train examples...: 100%",
            "_model_name": "FloatProgressModel",
            "bar_style": "",
            "max": 119924,
            "_view_module": "@jupyter-widgets/controls",
            "_model_module_version": "1.5.0",
            "value": 119924,
            "_view_count": null,
            "_view_module_version": "1.5.0",
            "orientation": "horizontal",
            "min": 0,
            "description_tooltip": null,
            "_model_module": "@jupyter-widgets/controls",
            "layout": "IPY_MODEL_421eaf9f37b0401aa11d07cafec43f01"
          }
        },
        "16dd19bc880a459cb6323fd4694d51d7": {
          "model_module": "@jupyter-widgets/controls",
          "model_name": "HTMLModel",
          "model_module_version": "1.5.0",
          "state": {
            "_view_name": "HTMLView",
            "style": "IPY_MODEL_147876cbc61446ccbbf50b2f53c568a8",
            "_dom_classes": [],
            "description": "",
            "_model_name": "HTMLModel",
            "placeholder": "​",
            "_view_module": "@jupyter-widgets/controls",
            "_model_module_version": "1.5.0",
            "value": " 119924/119924 [02:12&lt;00:00, 935.54 examples/s]",
            "_view_count": null,
            "_view_module_version": "1.5.0",
            "description_tooltip": null,
            "_model_module": "@jupyter-widgets/controls",
            "layout": "IPY_MODEL_a622aff57e58446b9aeb12812b42bc57"
          }
        },
        "b50ba5254c434ae0b80a701aa3200590": {
          "model_module": "@jupyter-widgets/controls",
          "model_name": "ProgressStyleModel",
          "model_module_version": "1.5.0",
          "state": {
            "_view_name": "StyleView",
            "_model_name": "ProgressStyleModel",
            "description_width": "initial",
            "_view_module": "@jupyter-widgets/base",
            "_model_module_version": "1.5.0",
            "_view_count": null,
            "_view_module_version": "1.2.0",
            "bar_color": null,
            "_model_module": "@jupyter-widgets/controls"
          }
        },
        "421eaf9f37b0401aa11d07cafec43f01": {
          "model_module": "@jupyter-widgets/base",
          "model_name": "LayoutModel",
          "model_module_version": "1.2.0",
          "state": {
            "_view_name": "LayoutView",
            "grid_template_rows": null,
            "right": null,
            "justify_content": null,
            "_view_module": "@jupyter-widgets/base",
            "overflow": null,
            "_model_module_version": "1.2.0",
            "_view_count": null,
            "flex_flow": null,
            "width": null,
            "min_width": null,
            "border": null,
            "align_items": null,
            "bottom": null,
            "_model_module": "@jupyter-widgets/base",
            "top": null,
            "grid_column": null,
            "overflow_y": null,
            "overflow_x": null,
            "grid_auto_flow": null,
            "grid_area": null,
            "grid_template_columns": null,
            "flex": null,
            "_model_name": "LayoutModel",
            "justify_items": null,
            "grid_row": null,
            "max_height": null,
            "align_content": null,
            "visibility": null,
            "align_self": null,
            "height": null,
            "min_height": null,
            "padding": null,
            "grid_auto_rows": null,
            "grid_gap": null,
            "max_width": null,
            "order": null,
            "_view_module_version": "1.2.0",
            "grid_template_areas": null,
            "object_position": null,
            "object_fit": null,
            "grid_auto_columns": null,
            "margin": null,
            "display": null,
            "left": null
          }
        },
        "147876cbc61446ccbbf50b2f53c568a8": {
          "model_module": "@jupyter-widgets/controls",
          "model_name": "DescriptionStyleModel",
          "model_module_version": "1.5.0",
          "state": {
            "_view_name": "StyleView",
            "_model_name": "DescriptionStyleModel",
            "description_width": "",
            "_view_module": "@jupyter-widgets/base",
            "_model_module_version": "1.5.0",
            "_view_count": null,
            "_view_module_version": "1.2.0",
            "_model_module": "@jupyter-widgets/controls"
          }
        },
        "a622aff57e58446b9aeb12812b42bc57": {
          "model_module": "@jupyter-widgets/base",
          "model_name": "LayoutModel",
          "model_module_version": "1.2.0",
          "state": {
            "_view_name": "LayoutView",
            "grid_template_rows": null,
            "right": null,
            "justify_content": null,
            "_view_module": "@jupyter-widgets/base",
            "overflow": null,
            "_model_module_version": "1.2.0",
            "_view_count": null,
            "flex_flow": null,
            "width": null,
            "min_width": null,
            "border": null,
            "align_items": null,
            "bottom": null,
            "_model_module": "@jupyter-widgets/base",
            "top": null,
            "grid_column": null,
            "overflow_y": null,
            "overflow_x": null,
            "grid_auto_flow": null,
            "grid_area": null,
            "grid_template_columns": null,
            "flex": null,
            "_model_name": "LayoutModel",
            "justify_items": null,
            "grid_row": null,
            "max_height": null,
            "align_content": null,
            "visibility": null,
            "align_self": null,
            "height": null,
            "min_height": null,
            "padding": null,
            "grid_auto_rows": null,
            "grid_gap": null,
            "max_width": null,
            "order": null,
            "_view_module_version": "1.2.0",
            "grid_template_areas": null,
            "object_position": null,
            "object_fit": null,
            "grid_auto_columns": null,
            "margin": null,
            "display": null,
            "left": null
          }
        },
        "aa18ff5b1b4640d79846a0e18ef60cb0": {
          "model_module": "@jupyter-widgets/controls",
          "model_name": "HBoxModel",
          "model_module_version": "1.5.0",
          "state": {
            "_view_name": "HBoxView",
            "_dom_classes": [],
            "_model_name": "HBoxModel",
            "_view_module": "@jupyter-widgets/controls",
            "_model_module_version": "1.5.0",
            "_view_count": null,
            "_view_module_version": "1.5.0",
            "box_style": "",
            "layout": "IPY_MODEL_e163569bf11f4cd68840b3fbc2c1b9fb",
            "_model_module": "@jupyter-widgets/controls",
            "children": [
              "IPY_MODEL_d6aa54f575314fbf991f95e882454145",
              "IPY_MODEL_f80a87b9a8a8456cbd5db8dd61fb5c13"
            ]
          }
        },
        "e163569bf11f4cd68840b3fbc2c1b9fb": {
          "model_module": "@jupyter-widgets/base",
          "model_name": "LayoutModel",
          "model_module_version": "1.2.0",
          "state": {
            "_view_name": "LayoutView",
            "grid_template_rows": null,
            "right": null,
            "justify_content": null,
            "_view_module": "@jupyter-widgets/base",
            "overflow": null,
            "_model_module_version": "1.2.0",
            "_view_count": null,
            "flex_flow": null,
            "width": null,
            "min_width": null,
            "border": null,
            "align_items": null,
            "bottom": null,
            "_model_module": "@jupyter-widgets/base",
            "top": null,
            "grid_column": null,
            "overflow_y": null,
            "overflow_x": null,
            "grid_auto_flow": null,
            "grid_area": null,
            "grid_template_columns": null,
            "flex": null,
            "_model_name": "LayoutModel",
            "justify_items": null,
            "grid_row": null,
            "max_height": null,
            "align_content": null,
            "visibility": null,
            "align_self": null,
            "height": null,
            "min_height": null,
            "padding": null,
            "grid_auto_rows": null,
            "grid_gap": null,
            "max_width": null,
            "order": null,
            "_view_module_version": "1.2.0",
            "grid_template_areas": null,
            "object_position": null,
            "object_fit": null,
            "grid_auto_columns": null,
            "margin": null,
            "display": null,
            "left": null
          }
        },
        "d6aa54f575314fbf991f95e882454145": {
          "model_module": "@jupyter-widgets/controls",
          "model_name": "FloatProgressModel",
          "model_module_version": "1.5.0",
          "state": {
            "_view_name": "ProgressView",
            "style": "IPY_MODEL_b57fb96d1d32477da2744963a32d8261",
            "_dom_classes": [],
            "description": "Shuffling scientific_papers-train.tfrecord...: 100%",
            "_model_name": "FloatProgressModel",
            "bar_style": "",
            "max": 119924,
            "_view_module": "@jupyter-widgets/controls",
            "_model_module_version": "1.5.0",
            "value": 119924,
            "_view_count": null,
            "_view_module_version": "1.5.0",
            "orientation": "horizontal",
            "min": 0,
            "description_tooltip": null,
            "_model_module": "@jupyter-widgets/controls",
            "layout": "IPY_MODEL_f14bf5b6abf241a6aeed03f78ce05713"
          }
        },
        "f80a87b9a8a8456cbd5db8dd61fb5c13": {
          "model_module": "@jupyter-widgets/controls",
          "model_name": "HTMLModel",
          "model_module_version": "1.5.0",
          "state": {
            "_view_name": "HTMLView",
            "style": "IPY_MODEL_e52bbe0e410d4846aaebaf0bfb473d4f",
            "_dom_classes": [],
            "description": "",
            "_model_name": "HTMLModel",
            "placeholder": "​",
            "_view_module": "@jupyter-widgets/controls",
            "_model_module_version": "1.5.0",
            "value": " 119924/119924 [00:26&lt;00:00, 4099.49 examples/s]",
            "_view_count": null,
            "_view_module_version": "1.5.0",
            "description_tooltip": null,
            "_model_module": "@jupyter-widgets/controls",
            "layout": "IPY_MODEL_47aaed03440e45aa8ac29adbda1175f1"
          }
        },
        "b57fb96d1d32477da2744963a32d8261": {
          "model_module": "@jupyter-widgets/controls",
          "model_name": "ProgressStyleModel",
          "model_module_version": "1.5.0",
          "state": {
            "_view_name": "StyleView",
            "_model_name": "ProgressStyleModel",
            "description_width": "initial",
            "_view_module": "@jupyter-widgets/base",
            "_model_module_version": "1.5.0",
            "_view_count": null,
            "_view_module_version": "1.2.0",
            "bar_color": null,
            "_model_module": "@jupyter-widgets/controls"
          }
        },
        "f14bf5b6abf241a6aeed03f78ce05713": {
          "model_module": "@jupyter-widgets/base",
          "model_name": "LayoutModel",
          "model_module_version": "1.2.0",
          "state": {
            "_view_name": "LayoutView",
            "grid_template_rows": null,
            "right": null,
            "justify_content": null,
            "_view_module": "@jupyter-widgets/base",
            "overflow": null,
            "_model_module_version": "1.2.0",
            "_view_count": null,
            "flex_flow": null,
            "width": null,
            "min_width": null,
            "border": null,
            "align_items": null,
            "bottom": null,
            "_model_module": "@jupyter-widgets/base",
            "top": null,
            "grid_column": null,
            "overflow_y": null,
            "overflow_x": null,
            "grid_auto_flow": null,
            "grid_area": null,
            "grid_template_columns": null,
            "flex": null,
            "_model_name": "LayoutModel",
            "justify_items": null,
            "grid_row": null,
            "max_height": null,
            "align_content": null,
            "visibility": null,
            "align_self": null,
            "height": null,
            "min_height": null,
            "padding": null,
            "grid_auto_rows": null,
            "grid_gap": null,
            "max_width": null,
            "order": null,
            "_view_module_version": "1.2.0",
            "grid_template_areas": null,
            "object_position": null,
            "object_fit": null,
            "grid_auto_columns": null,
            "margin": null,
            "display": null,
            "left": null
          }
        },
        "e52bbe0e410d4846aaebaf0bfb473d4f": {
          "model_module": "@jupyter-widgets/controls",
          "model_name": "DescriptionStyleModel",
          "model_module_version": "1.5.0",
          "state": {
            "_view_name": "StyleView",
            "_model_name": "DescriptionStyleModel",
            "description_width": "",
            "_view_module": "@jupyter-widgets/base",
            "_model_module_version": "1.5.0",
            "_view_count": null,
            "_view_module_version": "1.2.0",
            "_model_module": "@jupyter-widgets/controls"
          }
        },
        "47aaed03440e45aa8ac29adbda1175f1": {
          "model_module": "@jupyter-widgets/base",
          "model_name": "LayoutModel",
          "model_module_version": "1.2.0",
          "state": {
            "_view_name": "LayoutView",
            "grid_template_rows": null,
            "right": null,
            "justify_content": null,
            "_view_module": "@jupyter-widgets/base",
            "overflow": null,
            "_model_module_version": "1.2.0",
            "_view_count": null,
            "flex_flow": null,
            "width": null,
            "min_width": null,
            "border": null,
            "align_items": null,
            "bottom": null,
            "_model_module": "@jupyter-widgets/base",
            "top": null,
            "grid_column": null,
            "overflow_y": null,
            "overflow_x": null,
            "grid_auto_flow": null,
            "grid_area": null,
            "grid_template_columns": null,
            "flex": null,
            "_model_name": "LayoutModel",
            "justify_items": null,
            "grid_row": null,
            "max_height": null,
            "align_content": null,
            "visibility": null,
            "align_self": null,
            "height": null,
            "min_height": null,
            "padding": null,
            "grid_auto_rows": null,
            "grid_gap": null,
            "max_width": null,
            "order": null,
            "_view_module_version": "1.2.0",
            "grid_template_areas": null,
            "object_position": null,
            "object_fit": null,
            "grid_auto_columns": null,
            "margin": null,
            "display": null,
            "left": null
          }
        },
        "b9624a2f00114a78a5c5a53176d53044": {
          "model_module": "@jupyter-widgets/controls",
          "model_name": "HBoxModel",
          "model_module_version": "1.5.0",
          "state": {
            "_view_name": "HBoxView",
            "_dom_classes": [],
            "_model_name": "HBoxModel",
            "_view_module": "@jupyter-widgets/controls",
            "_model_module_version": "1.5.0",
            "_view_count": null,
            "_view_module_version": "1.5.0",
            "box_style": "",
            "layout": "IPY_MODEL_ddae764e7e1646fbb379ad9385e29523",
            "_model_module": "@jupyter-widgets/controls",
            "children": [
              "IPY_MODEL_90b75bf1211c48ddb3d5b8eaef0a292d",
              "IPY_MODEL_0a4133ca97cd424d9c4650c329ac912f"
            ]
          }
        },
        "ddae764e7e1646fbb379ad9385e29523": {
          "model_module": "@jupyter-widgets/base",
          "model_name": "LayoutModel",
          "model_module_version": "1.2.0",
          "state": {
            "_view_name": "LayoutView",
            "grid_template_rows": null,
            "right": null,
            "justify_content": null,
            "_view_module": "@jupyter-widgets/base",
            "overflow": null,
            "_model_module_version": "1.2.0",
            "_view_count": null,
            "flex_flow": null,
            "width": null,
            "min_width": null,
            "border": null,
            "align_items": null,
            "bottom": null,
            "_model_module": "@jupyter-widgets/base",
            "top": null,
            "grid_column": null,
            "overflow_y": null,
            "overflow_x": null,
            "grid_auto_flow": null,
            "grid_area": null,
            "grid_template_columns": null,
            "flex": null,
            "_model_name": "LayoutModel",
            "justify_items": null,
            "grid_row": null,
            "max_height": null,
            "align_content": null,
            "visibility": null,
            "align_self": null,
            "height": null,
            "min_height": null,
            "padding": null,
            "grid_auto_rows": null,
            "grid_gap": null,
            "max_width": null,
            "order": null,
            "_view_module_version": "1.2.0",
            "grid_template_areas": null,
            "object_position": null,
            "object_fit": null,
            "grid_auto_columns": null,
            "margin": null,
            "display": null,
            "left": null
          }
        },
        "90b75bf1211c48ddb3d5b8eaef0a292d": {
          "model_module": "@jupyter-widgets/controls",
          "model_name": "FloatProgressModel",
          "model_module_version": "1.5.0",
          "state": {
            "_view_name": "ProgressView",
            "style": "IPY_MODEL_039775bbefd34e07bf8eb5ff718ad411",
            "_dom_classes": [],
            "description": "Generating validation examples...: 100%",
            "_model_name": "FloatProgressModel",
            "bar_style": "",
            "max": 6633,
            "_view_module": "@jupyter-widgets/controls",
            "_model_module_version": "1.5.0",
            "value": 6633,
            "_view_count": null,
            "_view_module_version": "1.5.0",
            "orientation": "horizontal",
            "min": 0,
            "description_tooltip": null,
            "_model_module": "@jupyter-widgets/controls",
            "layout": "IPY_MODEL_bcbe91ec6ca3409bbc4ff574e581f0dd"
          }
        },
        "0a4133ca97cd424d9c4650c329ac912f": {
          "model_module": "@jupyter-widgets/controls",
          "model_name": "HTMLModel",
          "model_module_version": "1.5.0",
          "state": {
            "_view_name": "HTMLView",
            "style": "IPY_MODEL_eb1e9796549a4413a729fc65d7ae29c2",
            "_dom_classes": [],
            "description": "",
            "_model_name": "HTMLModel",
            "placeholder": "​",
            "_view_module": "@jupyter-widgets/controls",
            "_model_module_version": "1.5.0",
            "value": " 6633/6633 [00:10&lt;00:00, 949.88 examples/s]",
            "_view_count": null,
            "_view_module_version": "1.5.0",
            "description_tooltip": null,
            "_model_module": "@jupyter-widgets/controls",
            "layout": "IPY_MODEL_7c548efdb4ae4a0ab415b6b1bc23ed41"
          }
        },
        "039775bbefd34e07bf8eb5ff718ad411": {
          "model_module": "@jupyter-widgets/controls",
          "model_name": "ProgressStyleModel",
          "model_module_version": "1.5.0",
          "state": {
            "_view_name": "StyleView",
            "_model_name": "ProgressStyleModel",
            "description_width": "initial",
            "_view_module": "@jupyter-widgets/base",
            "_model_module_version": "1.5.0",
            "_view_count": null,
            "_view_module_version": "1.2.0",
            "bar_color": null,
            "_model_module": "@jupyter-widgets/controls"
          }
        },
        "bcbe91ec6ca3409bbc4ff574e581f0dd": {
          "model_module": "@jupyter-widgets/base",
          "model_name": "LayoutModel",
          "model_module_version": "1.2.0",
          "state": {
            "_view_name": "LayoutView",
            "grid_template_rows": null,
            "right": null,
            "justify_content": null,
            "_view_module": "@jupyter-widgets/base",
            "overflow": null,
            "_model_module_version": "1.2.0",
            "_view_count": null,
            "flex_flow": null,
            "width": null,
            "min_width": null,
            "border": null,
            "align_items": null,
            "bottom": null,
            "_model_module": "@jupyter-widgets/base",
            "top": null,
            "grid_column": null,
            "overflow_y": null,
            "overflow_x": null,
            "grid_auto_flow": null,
            "grid_area": null,
            "grid_template_columns": null,
            "flex": null,
            "_model_name": "LayoutModel",
            "justify_items": null,
            "grid_row": null,
            "max_height": null,
            "align_content": null,
            "visibility": null,
            "align_self": null,
            "height": null,
            "min_height": null,
            "padding": null,
            "grid_auto_rows": null,
            "grid_gap": null,
            "max_width": null,
            "order": null,
            "_view_module_version": "1.2.0",
            "grid_template_areas": null,
            "object_position": null,
            "object_fit": null,
            "grid_auto_columns": null,
            "margin": null,
            "display": null,
            "left": null
          }
        },
        "eb1e9796549a4413a729fc65d7ae29c2": {
          "model_module": "@jupyter-widgets/controls",
          "model_name": "DescriptionStyleModel",
          "model_module_version": "1.5.0",
          "state": {
            "_view_name": "StyleView",
            "_model_name": "DescriptionStyleModel",
            "description_width": "",
            "_view_module": "@jupyter-widgets/base",
            "_model_module_version": "1.5.0",
            "_view_count": null,
            "_view_module_version": "1.2.0",
            "_model_module": "@jupyter-widgets/controls"
          }
        },
        "7c548efdb4ae4a0ab415b6b1bc23ed41": {
          "model_module": "@jupyter-widgets/base",
          "model_name": "LayoutModel",
          "model_module_version": "1.2.0",
          "state": {
            "_view_name": "LayoutView",
            "grid_template_rows": null,
            "right": null,
            "justify_content": null,
            "_view_module": "@jupyter-widgets/base",
            "overflow": null,
            "_model_module_version": "1.2.0",
            "_view_count": null,
            "flex_flow": null,
            "width": null,
            "min_width": null,
            "border": null,
            "align_items": null,
            "bottom": null,
            "_model_module": "@jupyter-widgets/base",
            "top": null,
            "grid_column": null,
            "overflow_y": null,
            "overflow_x": null,
            "grid_auto_flow": null,
            "grid_area": null,
            "grid_template_columns": null,
            "flex": null,
            "_model_name": "LayoutModel",
            "justify_items": null,
            "grid_row": null,
            "max_height": null,
            "align_content": null,
            "visibility": null,
            "align_self": null,
            "height": null,
            "min_height": null,
            "padding": null,
            "grid_auto_rows": null,
            "grid_gap": null,
            "max_width": null,
            "order": null,
            "_view_module_version": "1.2.0",
            "grid_template_areas": null,
            "object_position": null,
            "object_fit": null,
            "grid_auto_columns": null,
            "margin": null,
            "display": null,
            "left": null
          }
        },
        "9fcebe4a9ec048ae91d6b85a7e4feb85": {
          "model_module": "@jupyter-widgets/controls",
          "model_name": "HBoxModel",
          "model_module_version": "1.5.0",
          "state": {
            "_view_name": "HBoxView",
            "_dom_classes": [],
            "_model_name": "HBoxModel",
            "_view_module": "@jupyter-widgets/controls",
            "_model_module_version": "1.5.0",
            "_view_count": null,
            "_view_module_version": "1.5.0",
            "box_style": "",
            "layout": "IPY_MODEL_3e0cfaf93c4e4e358bb794c796fe5e51",
            "_model_module": "@jupyter-widgets/controls",
            "children": [
              "IPY_MODEL_3f9b983186164981b5c396dab60aca6e",
              "IPY_MODEL_017257f2bda14ec893b08c96d63fec5b"
            ]
          }
        },
        "3e0cfaf93c4e4e358bb794c796fe5e51": {
          "model_module": "@jupyter-widgets/base",
          "model_name": "LayoutModel",
          "model_module_version": "1.2.0",
          "state": {
            "_view_name": "LayoutView",
            "grid_template_rows": null,
            "right": null,
            "justify_content": null,
            "_view_module": "@jupyter-widgets/base",
            "overflow": null,
            "_model_module_version": "1.2.0",
            "_view_count": null,
            "flex_flow": null,
            "width": null,
            "min_width": null,
            "border": null,
            "align_items": null,
            "bottom": null,
            "_model_module": "@jupyter-widgets/base",
            "top": null,
            "grid_column": null,
            "overflow_y": null,
            "overflow_x": null,
            "grid_auto_flow": null,
            "grid_area": null,
            "grid_template_columns": null,
            "flex": null,
            "_model_name": "LayoutModel",
            "justify_items": null,
            "grid_row": null,
            "max_height": null,
            "align_content": null,
            "visibility": null,
            "align_self": null,
            "height": null,
            "min_height": null,
            "padding": null,
            "grid_auto_rows": null,
            "grid_gap": null,
            "max_width": null,
            "order": null,
            "_view_module_version": "1.2.0",
            "grid_template_areas": null,
            "object_position": null,
            "object_fit": null,
            "grid_auto_columns": null,
            "margin": null,
            "display": null,
            "left": null
          }
        },
        "3f9b983186164981b5c396dab60aca6e": {
          "model_module": "@jupyter-widgets/controls",
          "model_name": "FloatProgressModel",
          "model_module_version": "1.5.0",
          "state": {
            "_view_name": "ProgressView",
            "style": "IPY_MODEL_0ae1e7a2df0544faa60634fcf9d59433",
            "_dom_classes": [],
            "description": "Shuffling scientific_papers-validation.tfrecord...: 100%",
            "_model_name": "FloatProgressModel",
            "bar_style": "",
            "max": 6633,
            "_view_module": "@jupyter-widgets/controls",
            "_model_module_version": "1.5.0",
            "value": 6633,
            "_view_count": null,
            "_view_module_version": "1.5.0",
            "orientation": "horizontal",
            "min": 0,
            "description_tooltip": null,
            "_model_module": "@jupyter-widgets/controls",
            "layout": "IPY_MODEL_57647adf89ba4e76b43a243fc19881e7"
          }
        },
        "017257f2bda14ec893b08c96d63fec5b": {
          "model_module": "@jupyter-widgets/controls",
          "model_name": "HTMLModel",
          "model_module_version": "1.5.0",
          "state": {
            "_view_name": "HTMLView",
            "style": "IPY_MODEL_73486cdfd0ac490185864f9fcc1b6f19",
            "_dom_classes": [],
            "description": "",
            "_model_name": "HTMLModel",
            "placeholder": "​",
            "_view_module": "@jupyter-widgets/controls",
            "_model_module_version": "1.5.0",
            "value": " 6633/6633 [00:00&lt;00:00, 25808.45 examples/s]",
            "_view_count": null,
            "_view_module_version": "1.5.0",
            "description_tooltip": null,
            "_model_module": "@jupyter-widgets/controls",
            "layout": "IPY_MODEL_0a71fd8e2beb4ebd8125d006502e864c"
          }
        },
        "0ae1e7a2df0544faa60634fcf9d59433": {
          "model_module": "@jupyter-widgets/controls",
          "model_name": "ProgressStyleModel",
          "model_module_version": "1.5.0",
          "state": {
            "_view_name": "StyleView",
            "_model_name": "ProgressStyleModel",
            "description_width": "initial",
            "_view_module": "@jupyter-widgets/base",
            "_model_module_version": "1.5.0",
            "_view_count": null,
            "_view_module_version": "1.2.0",
            "bar_color": null,
            "_model_module": "@jupyter-widgets/controls"
          }
        },
        "57647adf89ba4e76b43a243fc19881e7": {
          "model_module": "@jupyter-widgets/base",
          "model_name": "LayoutModel",
          "model_module_version": "1.2.0",
          "state": {
            "_view_name": "LayoutView",
            "grid_template_rows": null,
            "right": null,
            "justify_content": null,
            "_view_module": "@jupyter-widgets/base",
            "overflow": null,
            "_model_module_version": "1.2.0",
            "_view_count": null,
            "flex_flow": null,
            "width": null,
            "min_width": null,
            "border": null,
            "align_items": null,
            "bottom": null,
            "_model_module": "@jupyter-widgets/base",
            "top": null,
            "grid_column": null,
            "overflow_y": null,
            "overflow_x": null,
            "grid_auto_flow": null,
            "grid_area": null,
            "grid_template_columns": null,
            "flex": null,
            "_model_name": "LayoutModel",
            "justify_items": null,
            "grid_row": null,
            "max_height": null,
            "align_content": null,
            "visibility": null,
            "align_self": null,
            "height": null,
            "min_height": null,
            "padding": null,
            "grid_auto_rows": null,
            "grid_gap": null,
            "max_width": null,
            "order": null,
            "_view_module_version": "1.2.0",
            "grid_template_areas": null,
            "object_position": null,
            "object_fit": null,
            "grid_auto_columns": null,
            "margin": null,
            "display": null,
            "left": null
          }
        },
        "73486cdfd0ac490185864f9fcc1b6f19": {
          "model_module": "@jupyter-widgets/controls",
          "model_name": "DescriptionStyleModel",
          "model_module_version": "1.5.0",
          "state": {
            "_view_name": "StyleView",
            "_model_name": "DescriptionStyleModel",
            "description_width": "",
            "_view_module": "@jupyter-widgets/base",
            "_model_module_version": "1.5.0",
            "_view_count": null,
            "_view_module_version": "1.2.0",
            "_model_module": "@jupyter-widgets/controls"
          }
        },
        "0a71fd8e2beb4ebd8125d006502e864c": {
          "model_module": "@jupyter-widgets/base",
          "model_name": "LayoutModel",
          "model_module_version": "1.2.0",
          "state": {
            "_view_name": "LayoutView",
            "grid_template_rows": null,
            "right": null,
            "justify_content": null,
            "_view_module": "@jupyter-widgets/base",
            "overflow": null,
            "_model_module_version": "1.2.0",
            "_view_count": null,
            "flex_flow": null,
            "width": null,
            "min_width": null,
            "border": null,
            "align_items": null,
            "bottom": null,
            "_model_module": "@jupyter-widgets/base",
            "top": null,
            "grid_column": null,
            "overflow_y": null,
            "overflow_x": null,
            "grid_auto_flow": null,
            "grid_area": null,
            "grid_template_columns": null,
            "flex": null,
            "_model_name": "LayoutModel",
            "justify_items": null,
            "grid_row": null,
            "max_height": null,
            "align_content": null,
            "visibility": null,
            "align_self": null,
            "height": null,
            "min_height": null,
            "padding": null,
            "grid_auto_rows": null,
            "grid_gap": null,
            "max_width": null,
            "order": null,
            "_view_module_version": "1.2.0",
            "grid_template_areas": null,
            "object_position": null,
            "object_fit": null,
            "grid_auto_columns": null,
            "margin": null,
            "display": null,
            "left": null
          }
        },
        "b479cfe5e40947f2aeff0f0976597157": {
          "model_module": "@jupyter-widgets/controls",
          "model_name": "HBoxModel",
          "model_module_version": "1.5.0",
          "state": {
            "_view_name": "HBoxView",
            "_dom_classes": [],
            "_model_name": "HBoxModel",
            "_view_module": "@jupyter-widgets/controls",
            "_model_module_version": "1.5.0",
            "_view_count": null,
            "_view_module_version": "1.5.0",
            "box_style": "",
            "layout": "IPY_MODEL_2d8df2b1fb014007a1e2db37897cf0d6",
            "_model_module": "@jupyter-widgets/controls",
            "children": [
              "IPY_MODEL_e88358ac002d435a8113c0dcc503a457",
              "IPY_MODEL_a4a2fd0cc0974a6f8726b3e804844b22"
            ]
          }
        },
        "2d8df2b1fb014007a1e2db37897cf0d6": {
          "model_module": "@jupyter-widgets/base",
          "model_name": "LayoutModel",
          "model_module_version": "1.2.0",
          "state": {
            "_view_name": "LayoutView",
            "grid_template_rows": null,
            "right": null,
            "justify_content": null,
            "_view_module": "@jupyter-widgets/base",
            "overflow": null,
            "_model_module_version": "1.2.0",
            "_view_count": null,
            "flex_flow": null,
            "width": null,
            "min_width": null,
            "border": null,
            "align_items": null,
            "bottom": null,
            "_model_module": "@jupyter-widgets/base",
            "top": null,
            "grid_column": null,
            "overflow_y": null,
            "overflow_x": null,
            "grid_auto_flow": null,
            "grid_area": null,
            "grid_template_columns": null,
            "flex": null,
            "_model_name": "LayoutModel",
            "justify_items": null,
            "grid_row": null,
            "max_height": null,
            "align_content": null,
            "visibility": null,
            "align_self": null,
            "height": null,
            "min_height": null,
            "padding": null,
            "grid_auto_rows": null,
            "grid_gap": null,
            "max_width": null,
            "order": null,
            "_view_module_version": "1.2.0",
            "grid_template_areas": null,
            "object_position": null,
            "object_fit": null,
            "grid_auto_columns": null,
            "margin": null,
            "display": null,
            "left": null
          }
        },
        "e88358ac002d435a8113c0dcc503a457": {
          "model_module": "@jupyter-widgets/controls",
          "model_name": "FloatProgressModel",
          "model_module_version": "1.5.0",
          "state": {
            "_view_name": "ProgressView",
            "style": "IPY_MODEL_17463792cea2480a8ca3dcc2bdd71475",
            "_dom_classes": [],
            "description": "Generating test examples...: 100%",
            "_model_name": "FloatProgressModel",
            "bar_style": "",
            "max": 6658,
            "_view_module": "@jupyter-widgets/controls",
            "_model_module_version": "1.5.0",
            "value": 6658,
            "_view_count": null,
            "_view_module_version": "1.5.0",
            "orientation": "horizontal",
            "min": 0,
            "description_tooltip": null,
            "_model_module": "@jupyter-widgets/controls",
            "layout": "IPY_MODEL_2a03e47fe6ed42f4a6e3ab55341b6b82"
          }
        },
        "a4a2fd0cc0974a6f8726b3e804844b22": {
          "model_module": "@jupyter-widgets/controls",
          "model_name": "HTMLModel",
          "model_module_version": "1.5.0",
          "state": {
            "_view_name": "HTMLView",
            "style": "IPY_MODEL_6ff72c4c038949fb9bf864f90a325a58",
            "_dom_classes": [],
            "description": "",
            "_model_name": "HTMLModel",
            "placeholder": "​",
            "_view_module": "@jupyter-widgets/controls",
            "_model_module_version": "1.5.0",
            "value": " 6658/6658 [00:07&lt;00:00, 964.68 examples/s]",
            "_view_count": null,
            "_view_module_version": "1.5.0",
            "description_tooltip": null,
            "_model_module": "@jupyter-widgets/controls",
            "layout": "IPY_MODEL_3d5020a1aa7645498ce69a0edfdf5743"
          }
        },
        "17463792cea2480a8ca3dcc2bdd71475": {
          "model_module": "@jupyter-widgets/controls",
          "model_name": "ProgressStyleModel",
          "model_module_version": "1.5.0",
          "state": {
            "_view_name": "StyleView",
            "_model_name": "ProgressStyleModel",
            "description_width": "initial",
            "_view_module": "@jupyter-widgets/base",
            "_model_module_version": "1.5.0",
            "_view_count": null,
            "_view_module_version": "1.2.0",
            "bar_color": null,
            "_model_module": "@jupyter-widgets/controls"
          }
        },
        "2a03e47fe6ed42f4a6e3ab55341b6b82": {
          "model_module": "@jupyter-widgets/base",
          "model_name": "LayoutModel",
          "model_module_version": "1.2.0",
          "state": {
            "_view_name": "LayoutView",
            "grid_template_rows": null,
            "right": null,
            "justify_content": null,
            "_view_module": "@jupyter-widgets/base",
            "overflow": null,
            "_model_module_version": "1.2.0",
            "_view_count": null,
            "flex_flow": null,
            "width": null,
            "min_width": null,
            "border": null,
            "align_items": null,
            "bottom": null,
            "_model_module": "@jupyter-widgets/base",
            "top": null,
            "grid_column": null,
            "overflow_y": null,
            "overflow_x": null,
            "grid_auto_flow": null,
            "grid_area": null,
            "grid_template_columns": null,
            "flex": null,
            "_model_name": "LayoutModel",
            "justify_items": null,
            "grid_row": null,
            "max_height": null,
            "align_content": null,
            "visibility": null,
            "align_self": null,
            "height": null,
            "min_height": null,
            "padding": null,
            "grid_auto_rows": null,
            "grid_gap": null,
            "max_width": null,
            "order": null,
            "_view_module_version": "1.2.0",
            "grid_template_areas": null,
            "object_position": null,
            "object_fit": null,
            "grid_auto_columns": null,
            "margin": null,
            "display": null,
            "left": null
          }
        },
        "6ff72c4c038949fb9bf864f90a325a58": {
          "model_module": "@jupyter-widgets/controls",
          "model_name": "DescriptionStyleModel",
          "model_module_version": "1.5.0",
          "state": {
            "_view_name": "StyleView",
            "_model_name": "DescriptionStyleModel",
            "description_width": "",
            "_view_module": "@jupyter-widgets/base",
            "_model_module_version": "1.5.0",
            "_view_count": null,
            "_view_module_version": "1.2.0",
            "_model_module": "@jupyter-widgets/controls"
          }
        },
        "3d5020a1aa7645498ce69a0edfdf5743": {
          "model_module": "@jupyter-widgets/base",
          "model_name": "LayoutModel",
          "model_module_version": "1.2.0",
          "state": {
            "_view_name": "LayoutView",
            "grid_template_rows": null,
            "right": null,
            "justify_content": null,
            "_view_module": "@jupyter-widgets/base",
            "overflow": null,
            "_model_module_version": "1.2.0",
            "_view_count": null,
            "flex_flow": null,
            "width": null,
            "min_width": null,
            "border": null,
            "align_items": null,
            "bottom": null,
            "_model_module": "@jupyter-widgets/base",
            "top": null,
            "grid_column": null,
            "overflow_y": null,
            "overflow_x": null,
            "grid_auto_flow": null,
            "grid_area": null,
            "grid_template_columns": null,
            "flex": null,
            "_model_name": "LayoutModel",
            "justify_items": null,
            "grid_row": null,
            "max_height": null,
            "align_content": null,
            "visibility": null,
            "align_self": null,
            "height": null,
            "min_height": null,
            "padding": null,
            "grid_auto_rows": null,
            "grid_gap": null,
            "max_width": null,
            "order": null,
            "_view_module_version": "1.2.0",
            "grid_template_areas": null,
            "object_position": null,
            "object_fit": null,
            "grid_auto_columns": null,
            "margin": null,
            "display": null,
            "left": null
          }
        },
        "f9154404d8b44714868cf6e5ef03c2eb": {
          "model_module": "@jupyter-widgets/controls",
          "model_name": "HBoxModel",
          "model_module_version": "1.5.0",
          "state": {
            "_view_name": "HBoxView",
            "_dom_classes": [],
            "_model_name": "HBoxModel",
            "_view_module": "@jupyter-widgets/controls",
            "_model_module_version": "1.5.0",
            "_view_count": null,
            "_view_module_version": "1.5.0",
            "box_style": "",
            "layout": "IPY_MODEL_012d451f97964c7fa388aa0fb846e1bf",
            "_model_module": "@jupyter-widgets/controls",
            "children": [
              "IPY_MODEL_b8ebf2b8739647248b1d647e30415de1",
              "IPY_MODEL_58ba1b34d6b849038570cad9b87f0429"
            ]
          }
        },
        "012d451f97964c7fa388aa0fb846e1bf": {
          "model_module": "@jupyter-widgets/base",
          "model_name": "LayoutModel",
          "model_module_version": "1.2.0",
          "state": {
            "_view_name": "LayoutView",
            "grid_template_rows": null,
            "right": null,
            "justify_content": null,
            "_view_module": "@jupyter-widgets/base",
            "overflow": null,
            "_model_module_version": "1.2.0",
            "_view_count": null,
            "flex_flow": null,
            "width": null,
            "min_width": null,
            "border": null,
            "align_items": null,
            "bottom": null,
            "_model_module": "@jupyter-widgets/base",
            "top": null,
            "grid_column": null,
            "overflow_y": null,
            "overflow_x": null,
            "grid_auto_flow": null,
            "grid_area": null,
            "grid_template_columns": null,
            "flex": null,
            "_model_name": "LayoutModel",
            "justify_items": null,
            "grid_row": null,
            "max_height": null,
            "align_content": null,
            "visibility": null,
            "align_self": null,
            "height": null,
            "min_height": null,
            "padding": null,
            "grid_auto_rows": null,
            "grid_gap": null,
            "max_width": null,
            "order": null,
            "_view_module_version": "1.2.0",
            "grid_template_areas": null,
            "object_position": null,
            "object_fit": null,
            "grid_auto_columns": null,
            "margin": null,
            "display": null,
            "left": null
          }
        },
        "b8ebf2b8739647248b1d647e30415de1": {
          "model_module": "@jupyter-widgets/controls",
          "model_name": "FloatProgressModel",
          "model_module_version": "1.5.0",
          "state": {
            "_view_name": "ProgressView",
            "style": "IPY_MODEL_31b6df9776494887974dacb3c60ff1f6",
            "_dom_classes": [],
            "description": "Shuffling scientific_papers-test.tfrecord...: 100%",
            "_model_name": "FloatProgressModel",
            "bar_style": "",
            "max": 6658,
            "_view_module": "@jupyter-widgets/controls",
            "_model_module_version": "1.5.0",
            "value": 6658,
            "_view_count": null,
            "_view_module_version": "1.5.0",
            "orientation": "horizontal",
            "min": 0,
            "description_tooltip": null,
            "_model_module": "@jupyter-widgets/controls",
            "layout": "IPY_MODEL_a6b43195f2ea410589a0c020d8933fa0"
          }
        },
        "58ba1b34d6b849038570cad9b87f0429": {
          "model_module": "@jupyter-widgets/controls",
          "model_name": "HTMLModel",
          "model_module_version": "1.5.0",
          "state": {
            "_view_name": "HTMLView",
            "style": "IPY_MODEL_4e4eb55499474cd6834f49c19a8e295a",
            "_dom_classes": [],
            "description": "",
            "_model_name": "HTMLModel",
            "placeholder": "​",
            "_view_module": "@jupyter-widgets/controls",
            "_model_module_version": "1.5.0",
            "value": " 6658/6658 [00:00&lt;00:00, 25548.78 examples/s]",
            "_view_count": null,
            "_view_module_version": "1.5.0",
            "description_tooltip": null,
            "_model_module": "@jupyter-widgets/controls",
            "layout": "IPY_MODEL_b6bf3bcb9cb347908587c322b4c22a3a"
          }
        },
        "31b6df9776494887974dacb3c60ff1f6": {
          "model_module": "@jupyter-widgets/controls",
          "model_name": "ProgressStyleModel",
          "model_module_version": "1.5.0",
          "state": {
            "_view_name": "StyleView",
            "_model_name": "ProgressStyleModel",
            "description_width": "initial",
            "_view_module": "@jupyter-widgets/base",
            "_model_module_version": "1.5.0",
            "_view_count": null,
            "_view_module_version": "1.2.0",
            "bar_color": null,
            "_model_module": "@jupyter-widgets/controls"
          }
        },
        "a6b43195f2ea410589a0c020d8933fa0": {
          "model_module": "@jupyter-widgets/base",
          "model_name": "LayoutModel",
          "model_module_version": "1.2.0",
          "state": {
            "_view_name": "LayoutView",
            "grid_template_rows": null,
            "right": null,
            "justify_content": null,
            "_view_module": "@jupyter-widgets/base",
            "overflow": null,
            "_model_module_version": "1.2.0",
            "_view_count": null,
            "flex_flow": null,
            "width": null,
            "min_width": null,
            "border": null,
            "align_items": null,
            "bottom": null,
            "_model_module": "@jupyter-widgets/base",
            "top": null,
            "grid_column": null,
            "overflow_y": null,
            "overflow_x": null,
            "grid_auto_flow": null,
            "grid_area": null,
            "grid_template_columns": null,
            "flex": null,
            "_model_name": "LayoutModel",
            "justify_items": null,
            "grid_row": null,
            "max_height": null,
            "align_content": null,
            "visibility": null,
            "align_self": null,
            "height": null,
            "min_height": null,
            "padding": null,
            "grid_auto_rows": null,
            "grid_gap": null,
            "max_width": null,
            "order": null,
            "_view_module_version": "1.2.0",
            "grid_template_areas": null,
            "object_position": null,
            "object_fit": null,
            "grid_auto_columns": null,
            "margin": null,
            "display": null,
            "left": null
          }
        },
        "4e4eb55499474cd6834f49c19a8e295a": {
          "model_module": "@jupyter-widgets/controls",
          "model_name": "DescriptionStyleModel",
          "model_module_version": "1.5.0",
          "state": {
            "_view_name": "StyleView",
            "_model_name": "DescriptionStyleModel",
            "description_width": "",
            "_view_module": "@jupyter-widgets/base",
            "_model_module_version": "1.5.0",
            "_view_count": null,
            "_view_module_version": "1.2.0",
            "_model_module": "@jupyter-widgets/controls"
          }
        },
        "b6bf3bcb9cb347908587c322b4c22a3a": {
          "model_module": "@jupyter-widgets/base",
          "model_name": "LayoutModel",
          "model_module_version": "1.2.0",
          "state": {
            "_view_name": "LayoutView",
            "grid_template_rows": null,
            "right": null,
            "justify_content": null,
            "_view_module": "@jupyter-widgets/base",
            "overflow": null,
            "_model_module_version": "1.2.0",
            "_view_count": null,
            "flex_flow": null,
            "width": null,
            "min_width": null,
            "border": null,
            "align_items": null,
            "bottom": null,
            "_model_module": "@jupyter-widgets/base",
            "top": null,
            "grid_column": null,
            "overflow_y": null,
            "overflow_x": null,
            "grid_auto_flow": null,
            "grid_area": null,
            "grid_template_columns": null,
            "flex": null,
            "_model_name": "LayoutModel",
            "justify_items": null,
            "grid_row": null,
            "max_height": null,
            "align_content": null,
            "visibility": null,
            "align_self": null,
            "height": null,
            "min_height": null,
            "padding": null,
            "grid_auto_rows": null,
            "grid_gap": null,
            "max_width": null,
            "order": null,
            "_view_module_version": "1.2.0",
            "grid_template_areas": null,
            "object_position": null,
            "object_fit": null,
            "grid_auto_columns": null,
            "margin": null,
            "display": null,
            "left": null
          }
        }
      }
    }
  },
  "cells": [
    {
      "cell_type": "markdown",
      "metadata": {
        "id": "fcZZRDx505hq"
      },
      "source": [
        "## Set Up"
      ]
    },
    {
      "cell_type": "code",
      "metadata": {
        "id": "N94UyOdA0mCO",
        "colab": {
          "base_uri": "https://localhost:8080/"
        },
        "outputId": "fa61c527-ebef-47c8-b87c-e95640974272"
      },
      "source": [
        "!pip install git+https://github.com/google-research/bigbird.git -q"
      ],
      "execution_count": null,
      "outputs": [
        {
          "output_type": "stream",
          "text": [
            "\u001b[K     |████████████████████████████████| 1.2MB 13.4MB/s \n",
            "\u001b[K     |████████████████████████████████| 3.4MB 53.7MB/s \n",
            "\u001b[K     |████████████████████████████████| 1.5MB 54.2MB/s \n",
            "\u001b[K     |████████████████████████████████| 3.8MB 54.5MB/s \n",
            "\u001b[K     |████████████████████████████████| 706kB 47.9MB/s \n",
            "\u001b[K     |████████████████████████████████| 5.6MB 47.9MB/s \n",
            "\u001b[K     |████████████████████████████████| 368kB 53.1MB/s \n",
            "\u001b[K     |████████████████████████████████| 378kB 53.4MB/s \n",
            "\u001b[K     |████████████████████████████████| 194kB 53.3MB/s \n",
            "\u001b[K     |████████████████████████████████| 368kB 50.7MB/s \n",
            "\u001b[K     |████████████████████████████████| 358kB 51.2MB/s \n",
            "\u001b[K     |████████████████████████████████| 983kB 48.1MB/s \n",
            "\u001b[K     |████████████████████████████████| 655kB 47.3MB/s \n",
            "\u001b[K     |████████████████████████████████| 256kB 58.4MB/s \n",
            "\u001b[?25h  Building wheel for bigbird (setup.py) ... \u001b[?25l\u001b[?25hdone\n",
            "  Building wheel for gunicorn (setup.py) ... \u001b[?25l\u001b[?25hdone\n",
            "  Building wheel for bz2file (setup.py) ... \u001b[?25l\u001b[?25hdone\n",
            "  Building wheel for pypng (setup.py) ... \u001b[?25l\u001b[?25hdone\n",
            "\u001b[31mERROR: kfac 0.2.3 has requirement tensorflow-probability==0.8, but you'll have tensorflow-probability 0.7.0 which is incompatible.\u001b[0m\n"
          ],
          "name": "stdout"
        }
      ]
    },
    {
      "cell_type": "code",
      "metadata": {
        "id": "0irPwcbBYvDV"
      },
      "source": [
        "from bigbird.core import flags\n",
        "from bigbird.core import modeling\n",
        "from bigbird.core import utils\n",
        "from bigbird.summarization import run_summarization\n",
        "import tensorflow.compat.v2 as tf\n",
        "import tensorflow_datasets as tfds\n",
        "import tensorflow_text as tft\n",
        "from tqdm import tqdm\n",
        "import sys\n",
        "\n",
        "FLAGS = flags.FLAGS\n",
        "if not hasattr(FLAGS, \"f\"): flags.DEFINE_string(\"f\", \"\", \"\")\n",
        "FLAGS(sys.argv)\n",
        "\n",
        "tf.enable_v2_behavior()"
      ],
      "execution_count": null,
      "outputs": []
    },
    {
      "cell_type": "markdown",
      "metadata": {
        "id": "AJexg2zsxfHo"
      },
      "source": [
        "## Set options"
      ]
    },
    {
      "cell_type": "code",
      "metadata": {
        "id": "rph2sJ75kBNA"
      },
      "source": [
        "FLAGS.data_dir = \"tfds://scientific_papers/pubmed\"\n",
        "FLAGS.attention_type = \"block_sparse\"\n",
        "FLAGS.couple_encoder_decoder = True\n",
        "FLAGS.max_encoder_length = 2048  # on free colab only lower memory GPU like T4 is available\n",
        "FLAGS.max_decoder_length = 256\n",
        "FLAGS.block_size = 64\n",
        "FLAGS.learning_rate = 1e-5\n",
        "FLAGS.num_train_steps = 1000\n",
        "FLAGS.attention_probs_dropout_prob = 0.0\n",
        "FLAGS.hidden_dropout_prob = 0.0\n",
        "FLAGS.vocab_model_file = \"gpt2\""
      ],
      "execution_count": null,
      "outputs": []
    },
    {
      "cell_type": "code",
      "metadata": {
        "id": "zuxI3V_3j57Y"
      },
      "source": [
        "transformer_config = flags.as_dictionary()"
      ],
      "execution_count": null,
      "outputs": []
    },
    {
      "cell_type": "markdown",
      "metadata": {
        "id": "kRF4TUEQxjXJ"
      },
      "source": [
        "## Define summarization model"
      ]
    },
    {
      "cell_type": "code",
      "metadata": {
        "id": "5RX4ow05URf8"
      },
      "source": [
        "from tensorflow.python.ops.variable_scope import EagerVariableStore\n",
        "container = EagerVariableStore()"
      ],
      "execution_count": null,
      "outputs": []
    },
    {
      "cell_type": "code",
      "metadata": {
        "id": "J3yNdo5toQwq"
      },
      "source": [
        "with container.as_default():\n",
        "  model = modeling.TransformerModel(transformer_config)"
      ],
      "execution_count": null,
      "outputs": []
    },
    {
      "cell_type": "code",
      "metadata": {
        "id": "DXOY78vbqHX9"
      },
      "source": [
        "@tf.function(experimental_compile=True)\n",
        "def fwd_bwd(features, labels):\n",
        "  with tf.GradientTape() as g:\n",
        "    (llh, logits, pred_ids), _ = model(features, target_ids=labels,\n",
        "                                       training=True)\n",
        "    loss = run_summarization.padded_cross_entropy_loss(\n",
        "        logits, labels,\n",
        "        transformer_config[\"label_smoothing\"],\n",
        "        transformer_config[\"vocab_size\"])\n",
        "  grads = g.gradient(loss, model.trainable_weights)\n",
        "  return loss, llh, logits, pred_ids, grads"
      ],
      "execution_count": null,
      "outputs": []
    },
    {
      "cell_type": "markdown",
      "metadata": {
        "id": "DzoTMyQlxsRo"
      },
      "source": [
        "## Dataset pipeline"
      ]
    },
    {
      "cell_type": "code",
      "metadata": {
        "id": "Oo-NQTDZZs51",
        "colab": {
          "base_uri": "https://localhost:8080/",
          "height": 252,
          "referenced_widgets": [
            "37a20d4836e14bfd985a4d8480bc74af",
            "cd15439d98bd4799b9bd6a4cb33911d6",
            "b04db190d1fd43a6b8dd8218bf880e37",
            "65ad929cc168488493133acca8187f7f",
            "db353f70ee6248ef9337ca73093527e7",
            "14266013892c4878b89d4ea4285c79f9",
            "d038541705384ec2aade7698065a0d96",
            "863d7c01b46c424e88b5fe44e3c299c5",
            "ce5cc2f8d3fd45079a3f8b16f5277776",
            "1cfd129cd2e1472fbdaf100eb86f8317",
            "3a83587b46674900acfeb6b254786f80",
            "dc5c8d657a0b415aa6cff8792c31f73b",
            "26e2d7fca4cd48ab9afc64c58d4a7abe",
            "4118fc1ff99e4e77842b63c169a9cbac",
            "8b231929173e4380aaf71cb5121d39ef",
            "0e87da1343bf48cfaece25c0e0f93756",
            "68d95ccb4afb4665ac3533eff7a31f50",
            "c3726245fe1e4cb0ab66d6c726882af8",
            "7f9adc63fc5a4eef80fc76eac772942a",
            "e35c25e3f2c94eb3b9a40ca4f75bc4e2",
            "ad07e698200a441385143e8fe4a79da9",
            "ebb7df71c05e41f0943300335db501e3",
            "fae1d148f26c4c18994f4a34f7470b89",
            "5df4bdf9d9224b2893a3a4903d35075c",
            "93c8e31e6e0244a8b357628172f7a858",
            "505dcd77247d4ba992d4f49ce9aaea47",
            "d47df153f8b04cd58866d6cc341be8c7",
            "2da9da9ac42444a8928752742500dbde",
            "12cb29019c534e3bb492ede3928515f9",
            "27e96dec0257436c8f56a22874afdc8c",
            "d75bbe0912124b18a088f45eff8c23f6",
            "28a705f034434f6f8c37bf57d24730f3",
            "9fd6207c9a6a4cd4a004649fb4796559",
            "d37578a24bc74da29a8a31f762edbd9a",
            "e9e6efa767024db9b980b24c49992609",
            "16dd19bc880a459cb6323fd4694d51d7",
            "b50ba5254c434ae0b80a701aa3200590",
            "421eaf9f37b0401aa11d07cafec43f01",
            "147876cbc61446ccbbf50b2f53c568a8",
            "a622aff57e58446b9aeb12812b42bc57",
            "aa18ff5b1b4640d79846a0e18ef60cb0",
            "e163569bf11f4cd68840b3fbc2c1b9fb",
            "d6aa54f575314fbf991f95e882454145",
            "f80a87b9a8a8456cbd5db8dd61fb5c13",
            "b57fb96d1d32477da2744963a32d8261",
            "f14bf5b6abf241a6aeed03f78ce05713",
            "e52bbe0e410d4846aaebaf0bfb473d4f",
            "47aaed03440e45aa8ac29adbda1175f1",
            "b9624a2f00114a78a5c5a53176d53044",
            "ddae764e7e1646fbb379ad9385e29523",
            "90b75bf1211c48ddb3d5b8eaef0a292d",
            "0a4133ca97cd424d9c4650c329ac912f",
            "039775bbefd34e07bf8eb5ff718ad411",
            "bcbe91ec6ca3409bbc4ff574e581f0dd",
            "eb1e9796549a4413a729fc65d7ae29c2",
            "7c548efdb4ae4a0ab415b6b1bc23ed41",
            "9fcebe4a9ec048ae91d6b85a7e4feb85",
            "3e0cfaf93c4e4e358bb794c796fe5e51",
            "3f9b983186164981b5c396dab60aca6e",
            "017257f2bda14ec893b08c96d63fec5b",
            "0ae1e7a2df0544faa60634fcf9d59433",
            "57647adf89ba4e76b43a243fc19881e7",
            "73486cdfd0ac490185864f9fcc1b6f19",
            "0a71fd8e2beb4ebd8125d006502e864c",
            "b479cfe5e40947f2aeff0f0976597157",
            "2d8df2b1fb014007a1e2db37897cf0d6",
            "e88358ac002d435a8113c0dcc503a457",
            "a4a2fd0cc0974a6f8726b3e804844b22",
            "17463792cea2480a8ca3dcc2bdd71475",
            "2a03e47fe6ed42f4a6e3ab55341b6b82",
            "6ff72c4c038949fb9bf864f90a325a58",
            "3d5020a1aa7645498ce69a0edfdf5743",
            "f9154404d8b44714868cf6e5ef03c2eb",
            "012d451f97964c7fa388aa0fb846e1bf",
            "b8ebf2b8739647248b1d647e30415de1",
            "58ba1b34d6b849038570cad9b87f0429",
            "31b6df9776494887974dacb3c60ff1f6",
            "a6b43195f2ea410589a0c020d8933fa0",
            "4e4eb55499474cd6834f49c19a8e295a",
            "b6bf3bcb9cb347908587c322b4c22a3a"
          ]
        },
        "outputId": "eaa97fcc-128b-48f2-f9da-2e63e1e82a2f"
      },
      "source": [
        "train_input_fn = run_summarization.input_fn_builder(\n",
        "        data_dir=FLAGS.data_dir,\n",
        "        vocab_model_file=FLAGS.vocab_model_file,\n",
        "        max_encoder_length=FLAGS.max_encoder_length,\n",
        "        max_decoder_length=FLAGS.max_decoder_length,\n",
        "        substitute_newline=FLAGS.substitute_newline,\n",
        "        is_training=True)\n",
        "dataset = train_input_fn({'batch_size': 2})"
      ],
      "execution_count": null,
      "outputs": [
        {
          "output_type": "stream",
          "text": [
            "\u001b[1mDownloading and preparing dataset 4.20 GiB (download: 4.20 GiB, generated: 2.34 GiB, total: 6.54 GiB) to /root/tensorflow_datasets/scientific_papers/pubmed/1.1.1...\u001b[0m\n"
          ],
          "name": "stdout"
        },
        {
          "output_type": "display_data",
          "data": {
            "application/vnd.jupyter.widget-view+json": {
              "model_id": "37a20d4836e14bfd985a4d8480bc74af",
              "version_minor": 0,
              "version_major": 2
            },
            "text/plain": [
              "HBox(children=(FloatProgress(value=1.0, bar_style='info', description='Dl Completed...', max=1.0, style=Progre…"
            ]
          },
          "metadata": {
            "tags": []
          }
        },
        {
          "output_type": "display_data",
          "data": {
            "application/vnd.jupyter.widget-view+json": {
              "model_id": "ce5cc2f8d3fd45079a3f8b16f5277776",
              "version_minor": 0,
              "version_major": 2
            },
            "text/plain": [
              "HBox(children=(FloatProgress(value=1.0, bar_style='info', description='Dl Size...', max=1.0, style=ProgressSty…"
            ]
          },
          "metadata": {
            "tags": []
          }
        },
        {
          "output_type": "display_data",
          "data": {
            "application/vnd.jupyter.widget-view+json": {
              "model_id": "68d95ccb4afb4665ac3533eff7a31f50",
              "version_minor": 0,
              "version_major": 2
            },
            "text/plain": [
              "HBox(children=(FloatProgress(value=1.0, bar_style='info', description='Extraction completed...', max=1.0, styl…"
            ]
          },
          "metadata": {
            "tags": []
          }
        },
        {
          "output_type": "stream",
          "text": [
            "\n",
            "\n",
            "\n"
          ],
          "name": "stdout"
        },
        {
          "output_type": "display_data",
          "data": {
            "application/vnd.jupyter.widget-view+json": {
              "model_id": "93c8e31e6e0244a8b357628172f7a858",
              "version_minor": 0,
              "version_major": 2
            },
            "text/plain": [
              "HBox(children=(FloatProgress(value=0.0, description='Generating splits...', max=3.0, style=ProgressStyle(descr…"
            ]
          },
          "metadata": {
            "tags": []
          }
        },
        {
          "output_type": "display_data",
          "data": {
            "application/vnd.jupyter.widget-view+json": {
              "model_id": "9fd6207c9a6a4cd4a004649fb4796559",
              "version_minor": 0,
              "version_major": 2
            },
            "text/plain": [
              "HBox(children=(FloatProgress(value=0.0, description='Generating train examples...', max=119924.0, style=Progre…"
            ]
          },
          "metadata": {
            "tags": []
          }
        },
        {
          "output_type": "display_data",
          "data": {
            "application/vnd.jupyter.widget-view+json": {
              "model_id": "aa18ff5b1b4640d79846a0e18ef60cb0",
              "version_minor": 0,
              "version_major": 2
            },
            "text/plain": [
              "HBox(children=(FloatProgress(value=0.0, description='Shuffling scientific_papers-train.tfrecord...', max=11992…"
            ]
          },
          "metadata": {
            "tags": []
          }
        },
        {
          "output_type": "display_data",
          "data": {
            "application/vnd.jupyter.widget-view+json": {
              "model_id": "b9624a2f00114a78a5c5a53176d53044",
              "version_minor": 0,
              "version_major": 2
            },
            "text/plain": [
              "HBox(children=(FloatProgress(value=0.0, description='Generating validation examples...', max=6633.0, style=Pro…"
            ]
          },
          "metadata": {
            "tags": []
          }
        },
        {
          "output_type": "display_data",
          "data": {
            "application/vnd.jupyter.widget-view+json": {
              "model_id": "9fcebe4a9ec048ae91d6b85a7e4feb85",
              "version_minor": 0,
              "version_major": 2
            },
            "text/plain": [
              "HBox(children=(FloatProgress(value=0.0, description='Shuffling scientific_papers-validation.tfrecord...', max=…"
            ]
          },
          "metadata": {
            "tags": []
          }
        },
        {
          "output_type": "display_data",
          "data": {
            "application/vnd.jupyter.widget-view+json": {
              "model_id": "b479cfe5e40947f2aeff0f0976597157",
              "version_minor": 0,
              "version_major": 2
            },
            "text/plain": [
              "HBox(children=(FloatProgress(value=0.0, description='Generating test examples...', max=6658.0, style=ProgressS…"
            ]
          },
          "metadata": {
            "tags": []
          }
        },
        {
          "output_type": "display_data",
          "data": {
            "application/vnd.jupyter.widget-view+json": {
              "model_id": "f9154404d8b44714868cf6e5ef03c2eb",
              "version_minor": 0,
              "version_major": 2
            },
            "text/plain": [
              "HBox(children=(FloatProgress(value=0.0, description='Shuffling scientific_papers-test.tfrecord...', max=6658.0…"
            ]
          },
          "metadata": {
            "tags": []
          }
        },
        {
          "output_type": "stream",
          "text": [
            "\r\u001b[1mDataset scientific_papers downloaded and prepared to /root/tensorflow_datasets/scientific_papers/pubmed/1.1.1. Subsequent calls will reuse this data.\u001b[0m\n"
          ],
          "name": "stdout"
        },
        {
          "output_type": "stream",
          "text": [
            "/usr/local/lib/python3.7/dist-packages/bigbird/summarization/run_summarization.py:205: UserWarning: Creating resources inside a function passed to Dataset.map() is not supported. Create each resource outside the function, and capture it inside the function to use it.\n",
            "  deterministic=is_training)\n"
          ],
          "name": "stderr"
        }
      ]
    },
    {
      "cell_type": "code",
      "metadata": {
        "id": "hRvmfaNUi-V5",
        "colab": {
          "base_uri": "https://localhost:8080/"
        },
        "outputId": "79e1ca54-1f28-431b-dcc6-644ecfebe27a"
      },
      "source": [
        "# inspect at a few examples\n",
        "for ex in dataset.take(3):\n",
        "  print(ex)"
      ],
      "execution_count": null,
      "outputs": [
        {
          "output_type": "stream",
          "text": [
            "(<tf.Tensor: shape=(2, 2048), dtype=int32, numpy=\n",
            "array([[  382, 18450,   387, ...,  1503,  1372,   387],\n",
            "       [  363,   321,   100, ...,   358,   936,   427]], dtype=int32)>, <tf.Tensor: shape=(2, 256), dtype=int32, numpy=\n",
            "array([[10913, 21105, 31760,   583,  1228,   490,  3278,   456,  5972,\n",
            "          430,  1793, 13926,   865,   388,   529,  2151,   321,   100,\n",
            "          457, 15576,   363,  5509,   387, 49438,   458,   401,   639,\n",
            "         1368,   391,   321,  9290,  7602, 33085, 43802,   458,   321,\n",
            "         9290,  7602,   181,  1368, 10913,   388,  8796,   385,  2320,\n",
            "          743,   113,  2805, 15331,   494,   743,   185,  2314, 17771,\n",
            "         1159,   633,   118, 50035,   171,  1976,   358,   458,   401,\n",
            "          639,  1368,   938,   779,   165,  1976,   409,   458,   401,\n",
            "          639,  1368,   391,   633,  1258, 26615,   167,  1976,   409,\n",
            "          458,   321,  9290,  7602,   181,  1368,   388, 25346, 20880,\n",
            "         1852,   391, 25548,   865,   321,   100,  3686, 27056,  3075,\n",
            "          388,   363,   951,  9069, 11756,   321,  9290,  3556, 10813,\n",
            "          458,  1204,   741,   321, 17135,   380,  6199,  1368,   391,\n",
            "        20603,  7633, 14688,   458,   321,  7597,  1368,   648,  8731,\n",
            "          388,  4865, 20880,  7582,   452,  2001,  2530, 13668,   480,\n",
            "         1216, 34297,   392,  5144,   391,   388,  2037,  1830,   633,\n",
            "        20880,  7074,   865,  4945,   387,   363,  9814, 34297,  6684,\n",
            "        14395,  5667,   363,  5509,   865,   321,   100,  5667, 15422,\n",
            "         3686, 27056,  3075,   387,   363,   401,   639,  9880,   458,\n",
            "          380,  1380,   758,   114,  2814,  1368,   391, 20603, 49438,\n",
            "        14688,   458,   380,  1380,   321,   100,   758,   114,   587,\n",
            "         1368,   648,  6365,   388, 20880,  3972,   938,   719,  3789,\n",
            "          452,   363,  1830,   633, 20880,  7074,   938,   576,   985,\n",
            "         5501,   648,   508,  1144,   430,   363,   321,  9290,  7602,\n",
            "          181,  9880,   865,   321,   100, 50327,   938,   363, 49438,\n",
            "          385,   321,  9290,  7602, 33085, 43802,  7633, 10469,  8165,\n",
            "          458,   401,  1321,   358,  1368,   474,  6803,  3699, 11480,\n",
            "         2541,   388, 20880,  1852,   391, 25548,   719,  3789,   452,\n",
            "          363,  1830,   633, 20880],\n",
            "       [  358,  2847,   321,   100, 10570, 39391, 41091,   458, 45344,\n",
            "         6009,   633,  9889,   186,  1368,   474,  1074,   430,  4957,\n",
            "          358,   321,   100,  9619,  2297,   387,   358,  4691, 11230,\n",
            "        24188, 32965, 22077,  3203, 37170,  2786, 36497,   321,   100,\n",
            "          458,   714,   633, 45748, 11316,  1368, 16674,   430,   880,\n",
            "          452,  1830, 36230, 15404, 39551,  4980,   391,  7369,   321,\n",
            "          100,   382, 18581, 13709,   430, 36719, 41052,   865,   321,\n",
            "          100,   363,   850, 11067,  3134,   321,   100,   387,   363,\n",
            "          714,   633, 45748, 11316,   490,  8098,   517,   363,  5986,\n",
            "          387, 13694,  1503,   321,   100,  3107,   420,   363, 12666,\n",
            "        32406,   391,   363,   862,   387,  1503,  6968,   321,   100,\n",
            "          387, 39551,   761,   865,   321,   100,   358,   946,  1503,\n",
            "         2134,   458, 23471,  1368,   387,   363,  2688,   840,  2151,\n",
            "          321,   100,   419,  6852,   430,   358,  1945, 30981, 32965,\n",
            "          391,  4691, 11230, 24188, 32965,   321,   100, 32900,  2334,\n",
            "          385,   363, 22077, 13072,   387,   363,  2786,   865,   321,\n",
            "          100,   363, 30981, 32965,   321,   100,  4170,   387,   363,\n",
            "        30629,   474,  9814,   388,  3804,  1363, 16840,  1053, 12809,\n",
            "          321,   100,   391,   846,  1553, 20360, 34844, 11087,   456,\n",
            "          981,   456, 30981, 32965, 47573,   321,   100,  5545,  5052,\n",
            "        30174,   865,   321,   100, 36628,   938,   363,  4691, 11230,\n",
            "        24188, 32965,  6709,   648,   321,   100, 12666,   840, 41052,\n",
            "         3504,   938,   391,   363,  4691, 27500, 21163,   759,   321,\n",
            "          100,  1144,   648,   480,  1652,   614,  6367,   387, 14836,\n",
            "         2541,   722,   363,  3324,   458,  4570,  1368,   321,   100,\n",
            "         1560,   938, 13578,   363, 37597,   387,   529, 16102,  4681,\n",
            "         3947,   430,  4691, 37865, 18553,   321,   100,  2196,  4683,\n",
            "          865,     1,     0,     0,     0,     0,     0,     0,     0,\n",
            "            0,     0,     0,     0]], dtype=int32)>)\n",
            "(<tf.Tensor: shape=(2, 2048), dtype=int32, numpy=\n",
            "array([[ 2786,  2019,   419, ...,   419,  4462,   321],\n",
            "       [16318,  1735,   419, ...,  2199,  2764,   387]], dtype=int32)>, <tf.Tensor: shape=(2, 256), dtype=int32, numpy=\n",
            "array([[  718,  8953,  5082,   387, 11982,   633, 18369,  2786,  2019,\n",
            "          938,   644,   419,   358,  8881, 36224,   388,  5344, 43693,\n",
            "          938,   648, 11866,   865,   321,   100,   363,  4197, 14996,\n",
            "          648,  5275,   938,   612,  7049,   420, 11102,  2786,  9542,\n",
            "          648, 15576,   938,   391,   363, 13492,   391, 42864,   387,\n",
            "         1224,  3265,   648, 16594,   865,   321,   100,   388,  3191,\n",
            "          385,  6855, 10682,   985,   456,   363,  2597,  4684,   938,\n",
            "          363, 14275,   633,   728, 42010,  1613,  2847,   938,   363,\n",
            "         4684,   387, 10769, 11982,  2324,   391,   580, 28007,   806,\n",
            "         2847,   938,   363,   618,  2375,  2058,  1346,  2847,   474,\n",
            "         6794,   938, 10860,   420,   764,  3687,   388,  6689,   633,\n",
            "        22189,   651,  1414,   591, 12927,   865, 50103,   938,   358,\n",
            "         4063,  2670,  2847,  4267,   480,   363,  6504,   387,   380,\n",
            "        40644,   391,  2013,   420,   363,  2877,  1123,  2786,   388,\n",
            "        48646,   391, 34449, 42600,  9244,   474,  5646,   938,  2079,\n",
            "          452,  2375,  2583,  2263,   363,  1023,  4482,  1123,  2847,\n",
            "        16378,   391,  9386, 12093,  1467,   420,  1281, 11982,  3959,\n",
            "          458, 44479,   938,   487, 27389,   938, 17231, 13267,   938,\n",
            "          391,  6689, 39371,  1368,  4956,   363,  2227,   427, 30473,\n",
            "        19583, 34449, 42600,  9244,   689,   389, 36813, 10567,   391,\n",
            "        14018,   812,   358,  7632,  2698,   430,  2786,  2019,   865,\n",
            "          321,   100,   376,  2414,   420,   878,  2583,   938,   358,\n",
            "          403, 27482,   442,   387,   363,   357, 32592,   474,   736,\n",
            "         5251,   938, 13821,   363,   357, 32592,   321,   100,   525,\n",
            "         7790,   608,   391, 35359,   456, 49581,   389,  2717,  4375,\n",
            "          633, 38024,  9558,   391,   458, 17870,  1368, 34449, 42600,\n",
            "         9244,   938,  8249,   865,     1,     0,     0,     0,     0,\n",
            "            0,     0,     0,     0,     0,     0,     0,     0,     0,\n",
            "            0,     0,     0,     0],\n",
            "       [ 3685, 22928,   419, 12088,   456,   631,   387,   363,   850,\n",
            "         4151,  1272,  1636,  4054,   385,  3049,   391,  1731, 25347,\n",
            "        10141,   938,   746, 12420,   419,  7239,  3439,   865,   321,\n",
            "          100,  4462,   938,  3848,  4643,   419,   382,  6494,  7616,\n",
            "          388,  2592,  2361, 16318,  1735,  1531,   865,  1095,   321,\n",
            "          100,   938,   457,  2524,   363,  1560,  2529,   391,  2051,\n",
            "         2104, 22683,   387,   580, 29557, 12420,  3848,  4643,  1181,\n",
            "          865,     1,     0,     0,     0,     0,     0,     0,     0,\n",
            "            0,     0,     0,     0,     0,     0,     0,     0,     0,\n",
            "            0,     0,     0,     0,     0,     0,     0,     0,     0,\n",
            "            0,     0,     0,     0,     0,     0,     0,     0,     0,\n",
            "            0,     0,     0,     0,     0,     0,     0,     0,     0,\n",
            "            0,     0,     0,     0,     0,     0,     0,     0,     0,\n",
            "            0,     0,     0,     0,     0,     0,     0,     0,     0,\n",
            "            0,     0,     0,     0,     0,     0,     0,     0,     0,\n",
            "            0,     0,     0,     0,     0,     0,     0,     0,     0,\n",
            "            0,     0,     0,     0,     0,     0,     0,     0,     0,\n",
            "            0,     0,     0,     0,     0,     0,     0,     0,     0,\n",
            "            0,     0,     0,     0,     0,     0,     0,     0,     0,\n",
            "            0,     0,     0,     0,     0,     0,     0,     0,     0,\n",
            "            0,     0,     0,     0,     0,     0,     0,     0,     0,\n",
            "            0,     0,     0,     0,     0,     0,     0,     0,     0,\n",
            "            0,     0,     0,     0,     0,     0,     0,     0,     0,\n",
            "            0,     0,     0,     0,     0,     0,     0,     0,     0,\n",
            "            0,     0,     0,     0,     0,     0,     0,     0,     0,\n",
            "            0,     0,     0,     0,     0,     0,     0,     0,     0,\n",
            "            0,     0,     0,     0,     0,     0,     0,     0,     0,\n",
            "            0,     0,     0,     0,     0,     0,     0,     0,     0,\n",
            "            0,     0,     0,     0]], dtype=int32)>)\n",
            "(<tf.Tensor: shape=(2, 2048), dtype=int32, numpy=\n",
            "array([[ 3005,   938,   363, ..., 24041,  1549,   391],\n",
            "       [ 5276,  8614,  4948, ...,   363,  4397,   865]], dtype=int32)>, <tf.Tensor: shape=(2, 256), dtype=int32, numpy=\n",
            "array([[ 1409,  2031, 27307,  9097,  1107, 35688, 11007,   938,  5975,\n",
            "          358, 27500,   972,   938,   391, 14777,   387,  3972,  1123,\n",
            "          984,  5817,   452, 12956,   633, 18520,   388, 34175, 42028,\n",
            "         5650, 25534, 12597, 13530,   458, 40091,  1235,  1368,  1363,\n",
            "          358,   321,  7738, 49821,   563, 21605,  6199,  2189, 10467,\n",
            "          563,   458,   321, 24041,  1368,   391,  2897,  1563,   633,\n",
            "        18520, 12956,   458, 24316,   838,   177,  2889, 13079,  5762,\n",
            "          474,   358, 41533,  3882,   387,   453,   112, 32560,  3052,\n",
            "          388,   321, 40026,  3972,   609, 25390, 40091,  1235,   452,\n",
            "          382,   321, 24041,   458,   400,   129,   117,   112, 19809,\n",
            "         1368,   391,   382, 24316,   458,   400,   129, 23640,  1368,\n",
            "          480,   363,   835, 10500,   387,   569, 21821, 21462,  4537,\n",
            "          938,   321, 21171, 14400,   938,   321, 41192,  4204,   865,\n",
            "          321,   100,  1107, 35688, 11007,   938,  1491, 16659,   938,\n",
            "        25012,   938,   391, 43281,  7649,   388,   389, 15023,  1111,\n",
            "          458,   389,  1368,   938,   391,  5975,   358, 27500,   972,\n",
            "          648, 15377,  1212,   763,  3676,  9505,   391,   480,   453,\n",
            "         1328,  1162,   633,   611,   865,   321,   100,  5928, 14777,\n",
            "          474, 14986,  2105,   517, 27491,   363,  5928,   480,   363,\n",
            "          741,   387,  8363,  2524,   114, 43521,  1270,  1382, 27274,\n",
            "        14389, 16659,   938, 25012,   938,   391, 43281,  7649,  3916,\n",
            "          430,   984,  5817,   452, 24316,   648,   758,   114,  1371,\n",
            "          114,   123,   458,   743,   114,  4450,   114,   124,  1368,\n",
            "          938,   758,   114,  1221,   114,   122,   458,   743,   114,\n",
            "          587,   114,   116,  1368,   938,   391,   758,   114,   506,\n",
            "          114,   123,   458,   819,   114,   587,   114,   122,  1368,\n",
            "          938,  8249,   865,   430,   363,   321, 24041,  3312,   938,\n",
            "          585,   648,   758,   114,   587,   114,  2179,   458,   939,\n",
            "          114,  4622,   114,   124],\n",
            "       [  529,  2809, 20819,   363,  1319,  2751,   387,   363, 21587,\n",
            "        13865,  6932,   387,  5276,  8614,  4948,   458, 21587, 10046,\n",
            "          463,   114,   116,  1368,  1159,   358,  2368,  1729, 13479,\n",
            "          385,   363, 16774, 17363,   387, 20648,   391,  1108,  2031,\n",
            "          641,  4948,  2013,   420,   612,   321,  6984,  5540,   570,\n",
            "         9934, 18024,   458,   684, 31245,   391,  7633,  7487,  1368,\n",
            "          865,   321,   100,   363, 21587, 13865,  6932,   458, 21587,\n",
            "        10046,  1368,   419,   358,   991,   633,  3482,  1729,   427,\n",
            "          419, 17383, 37436,   938,   391,   427, 27221,   385,   363,\n",
            "         1130, 19056,  9674,   387,  5276,  4948,  4534,   385,   408,\n",
            "         5769,   388,  1912,  9640,   865,   321,   100, 21587, 10046,\n",
            "          463,   114,   116,   569,   688, 13333,   452,   358, 22820,\n",
            "          385,  1350,   685,  4938,  8378,   388,   363,  1729,   865,\n",
            "          321,   100,   363,  1560,  6932,  3901,   391,  8455,   490,\n",
            "          991, 12195, 29920,   458,   401,  2314,  1368,  1106, 20747,\n",
            "         3740,   391, 12873,   865,   321,   100, 21587, 10046,   463,\n",
            "          114,   116,   419,   382,  4397,  2013,   420,   363,  3882,\n",
            "          387,  1360,   119,   115,  1461, 13865,   938, 12276, 37141,\n",
            "        31819,   938,  1360,   117,   115,   167, 24565,   391,   995,\n",
            "         1321,   380,  5589,   401,  2314,  1106, 20747,  3740,   391,\n",
            "          363, 46188, 25248, 37141, 31819,  1683,   634, 23629, 37141,\n",
            "         2765,   387,  6235,   865,  1972,   685,  3134,   938,   388,\n",
            "         2947,   387,   363, 20895, 10334,   321,   100,   938,   529,\n",
            "         4397,  6774,  1159,   458,  1413,  1368,   358,  5097,   387,\n",
            "        17070,   391,  8189,  9488,   388,  3395,  4093,  5569,  2263,\n",
            "          458, 21166,  1368,  7633,   633,  2013, 43523,   545,   938,\n",
            "          911,   321,  6984,  5540,   570,  9934,  3075,   490,  8787,\n",
            "          385,  7411, 10191,  4948,  2263,   458, 47056,  1368,   358,\n",
            "         5048,   387,  3395, 10649]], dtype=int32)>)\n"
          ],
          "name": "stdout"
        }
      ]
    },
    {
      "cell_type": "markdown",
      "metadata": {
        "id": "lYCyGH56zOOU"
      },
      "source": [
        "## Check outputs"
      ]
    },
    {
      "cell_type": "code",
      "metadata": {
        "id": "5uQOwyGQzRKt",
        "colab": {
          "base_uri": "https://localhost:8080/"
        },
        "outputId": "38cdb72d-b42e-4b28-9c94-fb236367eff8"
      },
      "source": [
        "with container.as_default():\n",
        "  loss, llh, logits, pred_ids, grads = fwd_bwd(ex[0], ex[1])\n",
        "print('Loss: ', loss)"
      ],
      "execution_count": null,
      "outputs": [
        {
          "output_type": "stream",
          "text": [
            "/usr/local/lib/python3.7/dist-packages/tensorflow/python/keras/engine/base_layer.py:1402: UserWarning: `layer.updates` will be removed in a future version. This property should not be used in TensorFlow 2.0, as `updates` are applied automatically.\n",
            "  warnings.warn('`layer.updates` will be removed in a future version. '\n"
          ],
          "name": "stderr"
        },
        {
          "output_type": "stream",
          "text": [
            "Loss:  tf.Tensor(9.549082, shape=(), dtype=float32)\n"
          ],
          "name": "stdout"
        }
      ]
    },
    {
      "cell_type": "markdown",
      "metadata": {
        "id": "Qz_LdCCdyDCR"
      },
      "source": [
        "## (Optionally) Load pretrained model"
      ]
    },
    {
      "cell_type": "code",
      "metadata": {
        "id": "rRa2dD1RzLN4",
        "colab": {
          "base_uri": "https://localhost:8080/"
        },
        "outputId": "dd7c1b7e-c722-4b81-de3b-c47cffdf6130"
      },
      "source": [
        "# For training from scratch use\n",
        "# ckpt_path = 'gs://bigbird-transformer/pretrain/bigbr_base/model.ckpt-0'\n",
        "# For quick check continue from trained checkpoint\n",
        "ckpt_path = 'gs://bigbird-transformer/summarization/pubmed/roberta/model.ckpt-300000'\n",
        "ckpt_reader = tf.compat.v1.train.NewCheckpointReader(ckpt_path)\n",
        "loaded_weights = []\n",
        "for v in tqdm(model.trainable_weights, position=0):\n",
        "  try:\n",
        "    val = ckpt_reader.get_tensor(v.name[:-2])\n",
        "  except:\n",
        "    val = v.numpy()\n",
        "  loaded_weights.append(val)\n",
        "\n",
        "model.set_weights(loaded_weights)"
      ],
      "execution_count": null,
      "outputs": [
        {
          "output_type": "stream",
          "text": [
            "100%|██████████| 316/316 [01:20<00:00,  3.93it/s]\n"
          ],
          "name": "stderr"
        }
      ]
    },
    {
      "cell_type": "markdown",
      "metadata": {
        "id": "r6-BziYxzL3U"
      },
      "source": [
        "## Train"
      ]
    },
    {
      "cell_type": "code",
      "metadata": {
        "id": "IWjkDvu9k7ie",
        "colab": {
          "base_uri": "https://localhost:8080/"
        },
        "outputId": "7eaef917-916a-4d7c-c3a0-6e6b7c5e8527"
      },
      "source": [
        "opt = tf.keras.optimizers.Adam(FLAGS.learning_rate)\n",
        "train_loss = tf.keras.metrics.Mean(name='train_loss')\n",
        "\n",
        "for i, ex in enumerate(tqdm(dataset.take(FLAGS.num_train_steps), position=0)):\n",
        "  loss, llh, logits, pred_ids, grads = fwd_bwd(ex[0], ex[1])\n",
        "  opt.apply_gradients(zip(grads, model.trainable_weights))\n",
        "  train_loss(loss)\n",
        "  if i% 10 == 0:\n",
        "    print('Loss = {} '.format(train_loss.result().numpy()))"
      ],
      "execution_count": null,
      "outputs": [
        {
          "output_type": "stream",
          "text": [
            "  0%|          | 1/1000 [01:50<30:42:31, 110.66s/it]"
          ],
          "name": "stderr"
        },
        {
          "output_type": "stream",
          "text": [
            "Loss = 1.363891363143921 \n"
          ],
          "name": "stdout"
        },
        {
          "output_type": "stream",
          "text": [
            "  1%|          | 11/1000 [02:02<1:10:27,  4.27s/it]"
          ],
          "name": "stderr"
        },
        {
          "output_type": "stream",
          "text": [
            "Loss = 2.0001139640808105 \n"
          ],
          "name": "stdout"
        },
        {
          "output_type": "stream",
          "text": [
            "  2%|▏         | 21/1000 [02:14<20:59,  1.29s/it]"
          ],
          "name": "stderr"
        },
        {
          "output_type": "stream",
          "text": [
            "Loss = 1.827647089958191 \n"
          ],
          "name": "stdout"
        },
        {
          "output_type": "stream",
          "text": [
            "  3%|▎         | 31/1000 [02:26<19:25,  1.20s/it]"
          ],
          "name": "stderr"
        },
        {
          "output_type": "stream",
          "text": [
            "Loss = 1.6817251443862915 \n"
          ],
          "name": "stdout"
        },
        {
          "output_type": "stream",
          "text": [
            "  4%|▍         | 41/1000 [02:38<19:12,  1.20s/it]"
          ],
          "name": "stderr"
        },
        {
          "output_type": "stream",
          "text": [
            "Loss = 1.58353590965271 \n"
          ],
          "name": "stdout"
        },
        {
          "output_type": "stream",
          "text": [
            "  5%|▌         | 51/1000 [02:50<19:24,  1.23s/it]"
          ],
          "name": "stderr"
        },
        {
          "output_type": "stream",
          "text": [
            "Loss = 1.5402835607528687 \n"
          ],
          "name": "stdout"
        },
        {
          "output_type": "stream",
          "text": [
            "  6%|▌         | 61/1000 [03:03<19:22,  1.24s/it]"
          ],
          "name": "stderr"
        },
        {
          "output_type": "stream",
          "text": [
            "Loss = 1.493562936782837 \n"
          ],
          "name": "stdout"
        },
        {
          "output_type": "stream",
          "text": [
            "  7%|▋         | 71/1000 [03:15<19:28,  1.26s/it]"
          ],
          "name": "stderr"
        },
        {
          "output_type": "stream",
          "text": [
            "Loss = 1.436427116394043 \n"
          ],
          "name": "stdout"
        },
        {
          "output_type": "stream",
          "text": [
            "  8%|▊         | 81/1000 [03:27<19:12,  1.25s/it]"
          ],
          "name": "stderr"
        },
        {
          "output_type": "stream",
          "text": [
            "Loss = 1.4210580587387085 \n"
          ],
          "name": "stdout"
        },
        {
          "output_type": "stream",
          "text": [
            "  9%|▉         | 91/1000 [03:40<19:07,  1.26s/it]"
          ],
          "name": "stderr"
        },
        {
          "output_type": "stream",
          "text": [
            "Loss = 1.3970165252685547 \n"
          ],
          "name": "stdout"
        },
        {
          "output_type": "stream",
          "text": [
            " 10%|█         | 101/1000 [03:53<19:05,  1.27s/it]"
          ],
          "name": "stderr"
        },
        {
          "output_type": "stream",
          "text": [
            "Loss = 1.3981235027313232 \n"
          ],
          "name": "stdout"
        },
        {
          "output_type": "stream",
          "text": [
            " 11%|█         | 111/1000 [04:05<18:55,  1.28s/it]"
          ],
          "name": "stderr"
        },
        {
          "output_type": "stream",
          "text": [
            "Loss = 1.3892427682876587 \n"
          ],
          "name": "stdout"
        },
        {
          "output_type": "stream",
          "text": [
            " 12%|█▏        | 121/1000 [04:18<19:00,  1.30s/it]"
          ],
          "name": "stderr"
        },
        {
          "output_type": "stream",
          "text": [
            "Loss = 1.3859059810638428 \n"
          ],
          "name": "stdout"
        },
        {
          "output_type": "stream",
          "text": [
            " 13%|█▎        | 131/1000 [04:31<18:50,  1.30s/it]"
          ],
          "name": "stderr"
        },
        {
          "output_type": "stream",
          "text": [
            "Loss = 1.3729757070541382 \n"
          ],
          "name": "stdout"
        },
        {
          "output_type": "stream",
          "text": [
            " 14%|█▍        | 141/1000 [04:44<18:17,  1.28s/it]"
          ],
          "name": "stderr"
        },
        {
          "output_type": "stream",
          "text": [
            "Loss = 1.3730189800262451 \n"
          ],
          "name": "stdout"
        },
        {
          "output_type": "stream",
          "text": [
            " 15%|█▌        | 151/1000 [04:57<18:24,  1.30s/it]"
          ],
          "name": "stderr"
        },
        {
          "output_type": "stream",
          "text": [
            "Loss = 1.3701679706573486 \n"
          ],
          "name": "stdout"
        },
        {
          "output_type": "stream",
          "text": [
            " 16%|█▌        | 161/1000 [05:10<18:18,  1.31s/it]"
          ],
          "name": "stderr"
        },
        {
          "output_type": "stream",
          "text": [
            "Loss = 1.3543964624404907 \n"
          ],
          "name": "stdout"
        },
        {
          "output_type": "stream",
          "text": [
            " 17%|█▋        | 171/1000 [05:23<18:09,  1.31s/it]"
          ],
          "name": "stderr"
        },
        {
          "output_type": "stream",
          "text": [
            "Loss = 1.342591643333435 \n"
          ],
          "name": "stdout"
        },
        {
          "output_type": "stream",
          "text": [
            " 18%|█▊        | 181/1000 [05:36<17:58,  1.32s/it]"
          ],
          "name": "stderr"
        },
        {
          "output_type": "stream",
          "text": [
            "Loss = 1.3314224481582642 \n"
          ],
          "name": "stdout"
        },
        {
          "output_type": "stream",
          "text": [
            " 19%|█▉        | 191/1000 [05:49<17:31,  1.30s/it]"
          ],
          "name": "stderr"
        },
        {
          "output_type": "stream",
          "text": [
            "Loss = 1.3309468030929565 \n"
          ],
          "name": "stdout"
        },
        {
          "output_type": "stream",
          "text": [
            " 20%|██        | 201/1000 [06:02<17:38,  1.33s/it]"
          ],
          "name": "stderr"
        },
        {
          "output_type": "stream",
          "text": [
            "Loss = 1.3296253681182861 \n"
          ],
          "name": "stdout"
        },
        {
          "output_type": "stream",
          "text": [
            " 21%|██        | 211/1000 [06:15<17:27,  1.33s/it]"
          ],
          "name": "stderr"
        },
        {
          "output_type": "stream",
          "text": [
            "Loss = 1.327627182006836 \n"
          ],
          "name": "stdout"
        },
        {
          "output_type": "stream",
          "text": [
            " 22%|██▏       | 221/1000 [06:29<17:08,  1.32s/it]"
          ],
          "name": "stderr"
        },
        {
          "output_type": "stream",
          "text": [
            "Loss = 1.3304057121276855 \n"
          ],
          "name": "stdout"
        },
        {
          "output_type": "stream",
          "text": [
            " 23%|██▎       | 231/1000 [06:42<16:51,  1.32s/it]"
          ],
          "name": "stderr"
        },
        {
          "output_type": "stream",
          "text": [
            "Loss = 1.3215280771255493 \n"
          ],
          "name": "stdout"
        },
        {
          "output_type": "stream",
          "text": [
            " 24%|██▍       | 241/1000 [06:55<16:45,  1.33s/it]"
          ],
          "name": "stderr"
        },
        {
          "output_type": "stream",
          "text": [
            "Loss = 1.3212459087371826 \n"
          ],
          "name": "stdout"
        },
        {
          "output_type": "stream",
          "text": [
            " 25%|██▌       | 251/1000 [07:09<16:45,  1.34s/it]"
          ],
          "name": "stderr"
        },
        {
          "output_type": "stream",
          "text": [
            "Loss = 1.323975920677185 \n"
          ],
          "name": "stdout"
        },
        {
          "output_type": "stream",
          "text": [
            " 26%|██▌       | 261/1000 [07:22<16:21,  1.33s/it]"
          ],
          "name": "stderr"
        },
        {
          "output_type": "stream",
          "text": [
            "Loss = 1.3262150287628174 \n"
          ],
          "name": "stdout"
        },
        {
          "output_type": "stream",
          "text": [
            " 27%|██▋       | 271/1000 [07:35<16:21,  1.35s/it]"
          ],
          "name": "stderr"
        },
        {
          "output_type": "stream",
          "text": [
            "Loss = 1.3242645263671875 \n"
          ],
          "name": "stdout"
        },
        {
          "output_type": "stream",
          "text": [
            " 28%|██▊       | 281/1000 [07:49<16:13,  1.35s/it]"
          ],
          "name": "stderr"
        },
        {
          "output_type": "stream",
          "text": [
            "Loss = 1.3198277950286865 \n"
          ],
          "name": "stdout"
        },
        {
          "output_type": "stream",
          "text": [
            " 29%|██▉       | 291/1000 [08:02<15:40,  1.33s/it]"
          ],
          "name": "stderr"
        },
        {
          "output_type": "stream",
          "text": [
            "Loss = 1.3146157264709473 \n"
          ],
          "name": "stdout"
        },
        {
          "output_type": "stream",
          "text": [
            " 30%|███       | 301/1000 [08:16<15:47,  1.36s/it]"
          ],
          "name": "stderr"
        },
        {
          "output_type": "stream",
          "text": [
            "Loss = 1.313524603843689 \n"
          ],
          "name": "stdout"
        },
        {
          "output_type": "stream",
          "text": [
            " 31%|███       | 311/1000 [08:29<15:21,  1.34s/it]"
          ],
          "name": "stderr"
        },
        {
          "output_type": "stream",
          "text": [
            "Loss = 1.31621515750885 \n"
          ],
          "name": "stdout"
        },
        {
          "output_type": "stream",
          "text": [
            " 32%|███▏      | 321/1000 [08:43<15:22,  1.36s/it]"
          ],
          "name": "stderr"
        },
        {
          "output_type": "stream",
          "text": [
            "Loss = 1.3117657899856567 \n"
          ],
          "name": "stdout"
        },
        {
          "output_type": "stream",
          "text": [
            " 33%|███▎      | 331/1000 [08:56<15:08,  1.36s/it]"
          ],
          "name": "stderr"
        },
        {
          "output_type": "stream",
          "text": [
            "Loss = 1.3117302656173706 \n"
          ],
          "name": "stdout"
        },
        {
          "output_type": "stream",
          "text": [
            " 34%|███▍      | 341/1000 [09:10<14:51,  1.35s/it]"
          ],
          "name": "stderr"
        },
        {
          "output_type": "stream",
          "text": [
            "Loss = 1.3127896785736084 \n"
          ],
          "name": "stdout"
        },
        {
          "output_type": "stream",
          "text": [
            " 35%|███▌      | 351/1000 [09:23<14:34,  1.35s/it]"
          ],
          "name": "stderr"
        },
        {
          "output_type": "stream",
          "text": [
            "Loss = 1.3157973289489746 \n"
          ],
          "name": "stdout"
        },
        {
          "output_type": "stream",
          "text": [
            " 36%|███▌      | 361/1000 [09:37<14:18,  1.34s/it]"
          ],
          "name": "stderr"
        },
        {
          "output_type": "stream",
          "text": [
            "Loss = 1.3148447275161743 \n"
          ],
          "name": "stdout"
        },
        {
          "output_type": "stream",
          "text": [
            " 37%|███▋      | 371/1000 [09:50<14:09,  1.35s/it]"
          ],
          "name": "stderr"
        },
        {
          "output_type": "stream",
          "text": [
            "Loss = 1.3141580820083618 \n"
          ],
          "name": "stdout"
        },
        {
          "output_type": "stream",
          "text": [
            " 38%|███▊      | 381/1000 [10:04<14:02,  1.36s/it]"
          ],
          "name": "stderr"
        },
        {
          "output_type": "stream",
          "text": [
            "Loss = 1.3128198385238647 \n"
          ],
          "name": "stdout"
        },
        {
          "output_type": "stream",
          "text": [
            " 39%|███▉      | 391/1000 [10:17<13:44,  1.35s/it]"
          ],
          "name": "stderr"
        },
        {
          "output_type": "stream",
          "text": [
            "Loss = 1.3187257051467896 \n"
          ],
          "name": "stdout"
        },
        {
          "output_type": "stream",
          "text": [
            " 40%|████      | 401/1000 [10:31<13:28,  1.35s/it]"
          ],
          "name": "stderr"
        },
        {
          "output_type": "stream",
          "text": [
            "Loss = 1.3182646036148071 \n"
          ],
          "name": "stdout"
        },
        {
          "output_type": "stream",
          "text": [
            " 41%|████      | 411/1000 [10:44<13:06,  1.34s/it]"
          ],
          "name": "stderr"
        },
        {
          "output_type": "stream",
          "text": [
            "Loss = 1.3199938535690308 \n"
          ],
          "name": "stdout"
        },
        {
          "output_type": "stream",
          "text": [
            " 42%|████▏     | 421/1000 [10:58<13:07,  1.36s/it]"
          ],
          "name": "stderr"
        },
        {
          "output_type": "stream",
          "text": [
            "Loss = 1.320509910583496 \n"
          ],
          "name": "stdout"
        },
        {
          "output_type": "stream",
          "text": [
            " 43%|████▎     | 431/1000 [11:11<12:46,  1.35s/it]"
          ],
          "name": "stderr"
        },
        {
          "output_type": "stream",
          "text": [
            "Loss = 1.3133751153945923 \n"
          ],
          "name": "stdout"
        },
        {
          "output_type": "stream",
          "text": [
            " 44%|████▍     | 441/1000 [11:25<12:31,  1.34s/it]"
          ],
          "name": "stderr"
        },
        {
          "output_type": "stream",
          "text": [
            "Loss = 1.312691569328308 \n"
          ],
          "name": "stdout"
        },
        {
          "output_type": "stream",
          "text": [
            " 45%|████▌     | 451/1000 [11:38<12:28,  1.36s/it]"
          ],
          "name": "stderr"
        },
        {
          "output_type": "stream",
          "text": [
            "Loss = 1.3118925094604492 \n"
          ],
          "name": "stdout"
        },
        {
          "output_type": "stream",
          "text": [
            " 46%|████▌     | 461/1000 [11:52<12:06,  1.35s/it]"
          ],
          "name": "stderr"
        },
        {
          "output_type": "stream",
          "text": [
            "Loss = 1.310736060142517 \n"
          ],
          "name": "stdout"
        },
        {
          "output_type": "stream",
          "text": [
            " 47%|████▋     | 471/1000 [12:05<11:59,  1.36s/it]"
          ],
          "name": "stderr"
        },
        {
          "output_type": "stream",
          "text": [
            "Loss = 1.3095834255218506 \n"
          ],
          "name": "stdout"
        },
        {
          "output_type": "stream",
          "text": [
            " 48%|████▊     | 481/1000 [12:19<11:47,  1.36s/it]"
          ],
          "name": "stderr"
        },
        {
          "output_type": "stream",
          "text": [
            "Loss = 1.3103281259536743 \n"
          ],
          "name": "stdout"
        },
        {
          "output_type": "stream",
          "text": [
            " 49%|████▉     | 491/1000 [12:33<11:32,  1.36s/it]"
          ],
          "name": "stderr"
        },
        {
          "output_type": "stream",
          "text": [
            "Loss = 1.3085415363311768 \n"
          ],
          "name": "stdout"
        },
        {
          "output_type": "stream",
          "text": [
            " 50%|█████     | 501/1000 [12:46<11:15,  1.35s/it]"
          ],
          "name": "stderr"
        },
        {
          "output_type": "stream",
          "text": [
            "Loss = 1.3101277351379395 \n"
          ],
          "name": "stdout"
        },
        {
          "output_type": "stream",
          "text": [
            " 51%|█████     | 511/1000 [12:59<10:58,  1.35s/it]"
          ],
          "name": "stderr"
        },
        {
          "output_type": "stream",
          "text": [
            "Loss = 1.3103680610656738 \n"
          ],
          "name": "stdout"
        },
        {
          "output_type": "stream",
          "text": [
            " 52%|█████▏    | 521/1000 [13:13<10:51,  1.36s/it]"
          ],
          "name": "stderr"
        },
        {
          "output_type": "stream",
          "text": [
            "Loss = 1.316702961921692 \n"
          ],
          "name": "stdout"
        },
        {
          "output_type": "stream",
          "text": [
            " 53%|█████▎    | 531/1000 [13:26<10:37,  1.36s/it]"
          ],
          "name": "stderr"
        },
        {
          "output_type": "stream",
          "text": [
            "Loss = 1.3169350624084473 \n"
          ],
          "name": "stdout"
        },
        {
          "output_type": "stream",
          "text": [
            " 54%|█████▍    | 541/1000 [13:40<10:16,  1.34s/it]"
          ],
          "name": "stderr"
        },
        {
          "output_type": "stream",
          "text": [
            "Loss = 1.316780924797058 \n"
          ],
          "name": "stdout"
        },
        {
          "output_type": "stream",
          "text": [
            " 55%|█████▌    | 551/1000 [13:54<10:12,  1.36s/it]"
          ],
          "name": "stderr"
        },
        {
          "output_type": "stream",
          "text": [
            "Loss = 1.3159213066101074 \n"
          ],
          "name": "stdout"
        },
        {
          "output_type": "stream",
          "text": [
            " 56%|█████▌    | 561/1000 [14:07<09:55,  1.36s/it]"
          ],
          "name": "stderr"
        },
        {
          "output_type": "stream",
          "text": [
            "Loss = 1.3140277862548828 \n"
          ],
          "name": "stdout"
        },
        {
          "output_type": "stream",
          "text": [
            " 57%|█████▋    | 571/1000 [14:21<09:38,  1.35s/it]"
          ],
          "name": "stderr"
        },
        {
          "output_type": "stream",
          "text": [
            "Loss = 1.3107638359069824 \n"
          ],
          "name": "stdout"
        },
        {
          "output_type": "stream",
          "text": [
            " 58%|█████▊    | 581/1000 [14:34<09:28,  1.36s/it]"
          ],
          "name": "stderr"
        },
        {
          "output_type": "stream",
          "text": [
            "Loss = 1.311909556388855 \n"
          ],
          "name": "stdout"
        },
        {
          "output_type": "stream",
          "text": [
            " 59%|█████▉    | 591/1000 [14:48<09:17,  1.36s/it]"
          ],
          "name": "stderr"
        },
        {
          "output_type": "stream",
          "text": [
            "Loss = 1.3127955198287964 \n"
          ],
          "name": "stdout"
        },
        {
          "output_type": "stream",
          "text": [
            " 60%|██████    | 601/1000 [15:01<09:04,  1.36s/it]"
          ],
          "name": "stderr"
        },
        {
          "output_type": "stream",
          "text": [
            "Loss = 1.3105103969573975 \n"
          ],
          "name": "stdout"
        },
        {
          "output_type": "stream",
          "text": [
            " 61%|██████    | 611/1000 [15:15<08:46,  1.35s/it]"
          ],
          "name": "stderr"
        },
        {
          "output_type": "stream",
          "text": [
            "Loss = 1.3099581003189087 \n"
          ],
          "name": "stdout"
        },
        {
          "output_type": "stream",
          "text": [
            " 62%|██████▏   | 621/1000 [15:28<08:35,  1.36s/it]"
          ],
          "name": "stderr"
        },
        {
          "output_type": "stream",
          "text": [
            "Loss = 1.3101460933685303 \n"
          ],
          "name": "stdout"
        },
        {
          "output_type": "stream",
          "text": [
            " 63%|██████▎   | 631/1000 [15:42<08:20,  1.36s/it]"
          ],
          "name": "stderr"
        },
        {
          "output_type": "stream",
          "text": [
            "Loss = 1.3088980913162231 \n"
          ],
          "name": "stdout"
        },
        {
          "output_type": "stream",
          "text": [
            " 64%|██████▍   | 641/1000 [15:56<08:13,  1.37s/it]"
          ],
          "name": "stderr"
        },
        {
          "output_type": "stream",
          "text": [
            "Loss = 1.308201789855957 \n"
          ],
          "name": "stdout"
        },
        {
          "output_type": "stream",
          "text": [
            " 65%|██████▌   | 651/1000 [16:09<07:51,  1.35s/it]"
          ],
          "name": "stderr"
        },
        {
          "output_type": "stream",
          "text": [
            "Loss = 1.309259057044983 \n"
          ],
          "name": "stdout"
        },
        {
          "output_type": "stream",
          "text": [
            " 66%|██████▌   | 661/1000 [16:23<07:36,  1.35s/it]"
          ],
          "name": "stderr"
        },
        {
          "output_type": "stream",
          "text": [
            "Loss = 1.3082363605499268 \n"
          ],
          "name": "stdout"
        },
        {
          "output_type": "stream",
          "text": [
            " 67%|██████▋   | 671/1000 [16:36<07:30,  1.37s/it]"
          ],
          "name": "stderr"
        },
        {
          "output_type": "stream",
          "text": [
            "Loss = 1.3094345331192017 \n"
          ],
          "name": "stdout"
        },
        {
          "output_type": "stream",
          "text": [
            " 68%|██████▊   | 681/1000 [16:50<07:11,  1.35s/it]"
          ],
          "name": "stderr"
        },
        {
          "output_type": "stream",
          "text": [
            "Loss = 1.3100460767745972 \n"
          ],
          "name": "stdout"
        },
        {
          "output_type": "stream",
          "text": [
            " 69%|██████▉   | 691/1000 [17:03<06:51,  1.33s/it]"
          ],
          "name": "stderr"
        },
        {
          "output_type": "stream",
          "text": [
            "Loss = 1.3075838088989258 \n"
          ],
          "name": "stdout"
        },
        {
          "output_type": "stream",
          "text": [
            " 70%|███████   | 701/1000 [17:17<06:41,  1.34s/it]"
          ],
          "name": "stderr"
        },
        {
          "output_type": "stream",
          "text": [
            "Loss = 1.3072311878204346 \n"
          ],
          "name": "stdout"
        },
        {
          "output_type": "stream",
          "text": [
            " 71%|███████   | 711/1000 [17:30<06:35,  1.37s/it]"
          ],
          "name": "stderr"
        },
        {
          "output_type": "stream",
          "text": [
            "Loss = 1.306130051612854 \n"
          ],
          "name": "stdout"
        },
        {
          "output_type": "stream",
          "text": [
            " 72%|███████▏  | 721/1000 [17:44<06:12,  1.34s/it]"
          ],
          "name": "stderr"
        },
        {
          "output_type": "stream",
          "text": [
            "Loss = 1.3046369552612305 \n"
          ],
          "name": "stdout"
        },
        {
          "output_type": "stream",
          "text": [
            " 73%|███████▎  | 731/1000 [17:57<06:04,  1.36s/it]"
          ],
          "name": "stderr"
        },
        {
          "output_type": "stream",
          "text": [
            "Loss = 1.3031822443008423 \n"
          ],
          "name": "stdout"
        },
        {
          "output_type": "stream",
          "text": [
            " 74%|███████▍  | 741/1000 [18:11<05:50,  1.35s/it]"
          ],
          "name": "stderr"
        },
        {
          "output_type": "stream",
          "text": [
            "Loss = 1.3019015789031982 \n"
          ],
          "name": "stdout"
        },
        {
          "output_type": "stream",
          "text": [
            " 75%|███████▌  | 751/1000 [18:24<05:37,  1.35s/it]"
          ],
          "name": "stderr"
        },
        {
          "output_type": "stream",
          "text": [
            "Loss = 1.3020117282867432 \n"
          ],
          "name": "stdout"
        },
        {
          "output_type": "stream",
          "text": [
            " 76%|███████▌  | 761/1000 [18:38<05:19,  1.34s/it]"
          ],
          "name": "stderr"
        },
        {
          "output_type": "stream",
          "text": [
            "Loss = 1.300988793373108 \n"
          ],
          "name": "stdout"
        },
        {
          "output_type": "stream",
          "text": [
            " 77%|███████▋  | 771/1000 [18:51<05:06,  1.34s/it]"
          ],
          "name": "stderr"
        },
        {
          "output_type": "stream",
          "text": [
            "Loss = 1.2990926504135132 \n"
          ],
          "name": "stdout"
        },
        {
          "output_type": "stream",
          "text": [
            " 78%|███████▊  | 781/1000 [19:05<04:56,  1.35s/it]"
          ],
          "name": "stderr"
        },
        {
          "output_type": "stream",
          "text": [
            "Loss = 1.299412727355957 \n"
          ],
          "name": "stdout"
        },
        {
          "output_type": "stream",
          "text": [
            " 79%|███████▉  | 791/1000 [19:18<04:45,  1.37s/it]"
          ],
          "name": "stderr"
        },
        {
          "output_type": "stream",
          "text": [
            "Loss = 1.29827082157135 \n"
          ],
          "name": "stdout"
        },
        {
          "output_type": "stream",
          "text": [
            " 80%|████████  | 801/1000 [19:32<04:28,  1.35s/it]"
          ],
          "name": "stderr"
        },
        {
          "output_type": "stream",
          "text": [
            "Loss = 1.2957195043563843 \n"
          ],
          "name": "stdout"
        },
        {
          "output_type": "stream",
          "text": [
            " 81%|████████  | 811/1000 [19:45<04:17,  1.36s/it]"
          ],
          "name": "stderr"
        },
        {
          "output_type": "stream",
          "text": [
            "Loss = 1.2915773391723633 \n"
          ],
          "name": "stdout"
        },
        {
          "output_type": "stream",
          "text": [
            " 82%|████████▏ | 821/1000 [19:59<04:03,  1.36s/it]"
          ],
          "name": "stderr"
        },
        {
          "output_type": "stream",
          "text": [
            "Loss = 1.2912721633911133 \n"
          ],
          "name": "stdout"
        },
        {
          "output_type": "stream",
          "text": [
            " 83%|████████▎ | 831/1000 [20:12<03:49,  1.36s/it]"
          ],
          "name": "stderr"
        },
        {
          "output_type": "stream",
          "text": [
            "Loss = 1.2932581901550293 \n"
          ],
          "name": "stdout"
        },
        {
          "output_type": "stream",
          "text": [
            " 84%|████████▍ | 841/1000 [20:26<03:36,  1.36s/it]"
          ],
          "name": "stderr"
        },
        {
          "output_type": "stream",
          "text": [
            "Loss = 1.2915959358215332 \n"
          ],
          "name": "stdout"
        },
        {
          "output_type": "stream",
          "text": [
            " 85%|████████▌ | 851/1000 [20:39<03:22,  1.36s/it]"
          ],
          "name": "stderr"
        },
        {
          "output_type": "stream",
          "text": [
            "Loss = 1.292357087135315 \n"
          ],
          "name": "stdout"
        },
        {
          "output_type": "stream",
          "text": [
            " 86%|████████▌ | 861/1000 [20:53<03:10,  1.37s/it]"
          ],
          "name": "stderr"
        },
        {
          "output_type": "stream",
          "text": [
            "Loss = 1.2923327684402466 \n"
          ],
          "name": "stdout"
        },
        {
          "output_type": "stream",
          "text": [
            " 87%|████████▋ | 871/1000 [21:07<02:51,  1.33s/it]"
          ],
          "name": "stderr"
        },
        {
          "output_type": "stream",
          "text": [
            "Loss = 1.291812539100647 \n"
          ],
          "name": "stdout"
        },
        {
          "output_type": "stream",
          "text": [
            " 88%|████████▊ | 881/1000 [21:20<02:41,  1.36s/it]"
          ],
          "name": "stderr"
        },
        {
          "output_type": "stream",
          "text": [
            "Loss = 1.2922062873840332 \n"
          ],
          "name": "stdout"
        },
        {
          "output_type": "stream",
          "text": [
            " 89%|████████▉ | 891/1000 [21:34<02:28,  1.36s/it]"
          ],
          "name": "stderr"
        },
        {
          "output_type": "stream",
          "text": [
            "Loss = 1.2905346155166626 \n"
          ],
          "name": "stdout"
        },
        {
          "output_type": "stream",
          "text": [
            " 90%|█████████ | 901/1000 [21:47<02:14,  1.36s/it]"
          ],
          "name": "stderr"
        },
        {
          "output_type": "stream",
          "text": [
            "Loss = 1.2910197973251343 \n"
          ],
          "name": "stdout"
        },
        {
          "output_type": "stream",
          "text": [
            " 91%|█████████ | 911/1000 [22:01<02:00,  1.36s/it]"
          ],
          "name": "stderr"
        },
        {
          "output_type": "stream",
          "text": [
            "Loss = 1.2887943983078003 \n"
          ],
          "name": "stdout"
        },
        {
          "output_type": "stream",
          "text": [
            " 92%|█████████▏| 921/1000 [22:14<01:47,  1.36s/it]"
          ],
          "name": "stderr"
        },
        {
          "output_type": "stream",
          "text": [
            "Loss = 1.2903236150741577 \n"
          ],
          "name": "stdout"
        },
        {
          "output_type": "stream",
          "text": [
            " 93%|█████████▎| 931/1000 [22:28<01:33,  1.35s/it]"
          ],
          "name": "stderr"
        },
        {
          "output_type": "stream",
          "text": [
            "Loss = 1.2902488708496094 \n"
          ],
          "name": "stdout"
        },
        {
          "output_type": "stream",
          "text": [
            " 94%|█████████▍| 941/1000 [22:41<01:19,  1.35s/it]"
          ],
          "name": "stderr"
        },
        {
          "output_type": "stream",
          "text": [
            "Loss = 1.289626955986023 \n"
          ],
          "name": "stdout"
        },
        {
          "output_type": "stream",
          "text": [
            " 95%|█████████▌| 951/1000 [22:55<01:06,  1.36s/it]"
          ],
          "name": "stderr"
        },
        {
          "output_type": "stream",
          "text": [
            "Loss = 1.288147211074829 \n"
          ],
          "name": "stdout"
        },
        {
          "output_type": "stream",
          "text": [
            " 96%|█████████▌| 961/1000 [23:09<00:52,  1.36s/it]"
          ],
          "name": "stderr"
        },
        {
          "output_type": "stream",
          "text": [
            "Loss = 1.286420226097107 \n"
          ],
          "name": "stdout"
        },
        {
          "output_type": "stream",
          "text": [
            " 97%|█████████▋| 971/1000 [23:22<00:39,  1.35s/it]"
          ],
          "name": "stderr"
        },
        {
          "output_type": "stream",
          "text": [
            "Loss = 1.2832293510437012 \n"
          ],
          "name": "stdout"
        },
        {
          "output_type": "stream",
          "text": [
            " 98%|█████████▊| 981/1000 [23:36<00:25,  1.36s/it]"
          ],
          "name": "stderr"
        },
        {
          "output_type": "stream",
          "text": [
            "Loss = 1.2840265035629272 \n"
          ],
          "name": "stdout"
        },
        {
          "output_type": "stream",
          "text": [
            " 99%|█████████▉| 991/1000 [23:49<00:12,  1.34s/it]"
          ],
          "name": "stderr"
        },
        {
          "output_type": "stream",
          "text": [
            "Loss = 1.283961534500122 \n"
          ],
          "name": "stdout"
        },
        {
          "output_type": "stream",
          "text": [
            "100%|██████████| 1000/1000 [24:01<00:00,  1.44s/it]\n"
          ],
          "name": "stderr"
        }
      ]
    },
    {
      "cell_type": "markdown",
      "metadata": {
        "id": "SA-MksK2DEOn"
      },
      "source": [
        "### Print predictions"
      ]
    },
    {
      "cell_type": "code",
      "metadata": {
        "id": "a-FD37ZLxr8R"
      },
      "source": [
        "tokenizer = tft.SentencepieceTokenizer(\n",
        "        model=tf.io.gfile.GFile(FLAGS.vocab_model_file, \"rb\").read())"
      ],
      "execution_count": null,
      "outputs": []
    },
    {
      "cell_type": "code",
      "metadata": {
        "id": "cc3OatxlMCk3"
      },
      "source": [
        "@tf.function(experimental_compile=True)\n",
        "def fwd_only(features, labels):\n",
        "  (llh, logits, pred_ids), _ = model(features, target_ids=labels,\n",
        "                                       training=False)\n",
        "  return llh, logits, pred_ids"
      ],
      "execution_count": null,
      "outputs": []
    },
    {
      "cell_type": "code",
      "metadata": {
        "id": "8RXHSgpKFG1F",
        "colab": {
          "base_uri": "https://localhost:8080/"
        },
        "outputId": "3c1a7400-4d23-4350-bd0c-c6d2d4467a0b"
      },
      "source": [
        "_, _, pred_ids = fwd_only(ex[0], ex[1])"
      ],
      "execution_count": null,
      "outputs": [
        {
          "output_type": "stream",
          "text": [
            "/usr/local/lib/python3.7/dist-packages/tensorflow/python/keras/engine/base_layer.py:1402: UserWarning: `layer.updates` will be removed in a future version. This property should not be used in TensorFlow 2.0, as `updates` are applied automatically.\n",
            "  warnings.warn('`layer.updates` will be removed in a future version. '\n"
          ],
          "name": "stderr"
        },
        {
          "output_type": "stream",
          "text": [
            "WARNING:tensorflow:From /usr/local/lib/python3.7/dist-packages/bigbird/core/beam_search.py:161: calling while_loop_v2 (from tensorflow.python.ops.control_flow_ops) with back_prop=False is deprecated and will be removed in a future version.\n",
            "Instructions for updating:\n",
            "back_prop=False is deprecated. Consider using tf.stop_gradient instead.\n",
            "Instead of:\n",
            "results = tf.while_loop(c, b, vars, back_prop=False)\n",
            "Use:\n",
            "results = tf.nest.map_structure(tf.stop_gradient, tf.while_loop(c, b, vars))\n"
          ],
          "name": "stdout"
        },
        {
          "output_type": "stream",
          "text": [
            "WARNING:tensorflow:From /usr/local/lib/python3.7/dist-packages/bigbird/core/beam_search.py:161: calling while_loop_v2 (from tensorflow.python.ops.control_flow_ops) with back_prop=False is deprecated and will be removed in a future version.\n",
            "Instructions for updating:\n",
            "back_prop=False is deprecated. Consider using tf.stop_gradient instead.\n",
            "Instead of:\n",
            "results = tf.while_loop(c, b, vars, back_prop=False)\n",
            "Use:\n",
            "results = tf.nest.map_structure(tf.stop_gradient, tf.while_loop(c, b, vars))\n"
          ],
          "name": "stderr"
        }
      ]
    },
    {
      "cell_type": "code",
      "metadata": {
        "colab": {
          "base_uri": "https://localhost:8080/"
        },
        "id": "BvEFgoXJxQOa",
        "outputId": "315d967e-030d-4fe4-e6d6-8755206afaa5"
      },
      "source": [
        "print('Article:\\n {}\\n\\n Predicted summary:\\n {}\\n\\n Ground truth summary:\\n {}\\n\\n'.format(\n",
        "    tokenizer.detokenize(ex[0]),\n",
        "    tokenizer.detokenize(pred_ids),\n",
        "    tokenizer.detokenize(ex[1])))"
      ],
      "execution_count": null,
      "outputs": [
        {
          "output_type": "stream",
          "text": [
            "Article:\n",
            " [b\"the last decade has witnessed significant advances in the surgical management of cervical radiculopathy and myelopathy , to include development of motion - sparing alternatives to traditional anterior cervical diskectomy and fusion ( acdf ) . \\xe2\\x81\\x87 the theoretical benefits of these alternatives , primarily cervical disk arthroplasty ( cda ) , include diminished contiguous level strain , preservation of motion at the affected vertebral segment , and a hypothetical decrease in the development or progression of degenerative disease processes at immediately adjacent levels.1  \\xe2\\x81\\x87  2  \\xe2\\x81\\x87  3 several small randomized controlled trials have suggested that cda may be associated with better neurologic outcomes , fewer revisions , and better overall success when compared with acdf.4  \\xe2\\x81\\x87  5  \\xe2\\x81\\x87  6  \\xe2\\x81\\x87  7  \\xe2\\x81\\x87  8 previous studies have found that cda provides up to an 89% rate of complete preoperative symptom relief , with greater than 90% of patients returning to their preoperative level of activity ; notably , these outcomes were better than for patients undergoing acdf.9  \\xe2\\x81\\x87  10  \\xe2\\x81\\x87  however , cda procedures are not without associated operative risks , and the short- and long - term complications of cda have begun to emerge in the literature : as with acdf , postoperative dysphagia , recurrent laryngeal nerve injury , and posterior neck pain are concerning.11  \\xe2\\x81\\x87  12  \\xe2\\x81\\x87  13  \\xe2\\x81\\x87  14 peridevice vertebral bone loss and osteolysis , heterotopic ossification , and migration of the device have been reported , as has progression of adjacent segment disease despite motion preservation.15  \\xe2\\x81\\x87  16  \\xe2\\x81\\x87  17 the bryan cervical disc ( medtronic sofamor danek , memphis , tennessee , united states ) is unique among cda devices in that it consists of two titanium shells encompassing a polyurethane nucleus ; the device is implanted into a space milled out of the cleared cervical disk space and the adjacent vertebral bodies . \\xe2\\x81\\x87 two wings extend along the anterior edges of the titanium shells to prevent posterior displacement of the device,18 but there is no direct fixation into the superior or inferior end plates . \\xe2\\x81\\x87 posterior migration of the device has been reported infrequently,17  \\xe2\\x81\\x87  19  \\xe2\\x81\\x87  20 but can be associated with symptom recurrence and neurologic compromise.15 here we present the case of a patient with anterior extrusion of this implant after a low - energy trauma to the posterior neck . \\xe2\\x81\\x87 a 36-year - old man presented with left upper extremity radicular symptoms and intermittent numbness . \\xe2\\x81\\x87 1 . magnetic resonance imaging ( mri ) showed a disk osteophyte complex resulting in moderate central canal narrowing with moderate left and mild right neural foraminal stenosis at c5c6 ( fig . \\xe2\\x81\\x87 3 ) and had complete resolution of his preoperative symptoms with return of the strength in his left upper extremity . after brief immobilization in a soft collar \\xe2\\x81\\x87 , the radiographs at 6 weeks were not concerning for implant failure or migration ( fig . \\xe2\\x81\\x87 radiographs obtained at 3 months ' follow - up demonstrated maintenance of the implant position without evidence of loosening ( fig . \\xe2\\x81\\x87 5 ) , and the activity restrictions were lifted . the patient continued to do well and returned to his normal activities of daily living .  \\xe2\\x81\\x87 anteroposterior ( a ) and lateral ( b ) preoperative radiographs demonstrating spondylosis and anterior osteophyte formation at c5c6 .  \\xe2\\x81\\x87 sequential sagittal magnetic resonance image slices ( a , b ) demonstrating disk osteophyte complex resulting in moderate central canal narrowing with moderate left and mild right neural foraminal stenosis at c5c6 .  \\xe2\\x81\\x87 anteroposterior ( a ) and lateral ( b ) immediate postoperative radiographs demonstrating well - positioned and appropriately sized single - level bryan cervical disc arthroplasty device at c5-c6 .  \\xe2\\x81\\x87 lateral ( a ) , flexion ( b ) , and extension ( c ) radiographs at 6 weeks postoperatively demonstrating no change in the location or placement of the device , without evidence of migration or subsidence .  \\xe2\\x81\\x87 anteroposterior ( a ) and lateral ( b ) radiographs at 3 months postoperation demonstrating no change in position of the implant . at 6 months \\xe2\\x81\\x87 postoperatively , the patient reported that while he was seated at his desk , a book fell off the shelf behind him and struck the posterior aspect of his neck at the occipital - cervical junction , forcing his neck into flexion . \\xe2\\x81\\x87 he denied any recurrence of his radicular symptoms but did note mild posterior neck pain after the incident . \\xe2\\x81\\x87 radiographs obtained at the time demonstrated 2 mm of anterior implant migration without apparent movement on dynamic imaging ( fig . \\xe2\\x81\\x87 the patient was counseled regarding the potential for further migration , and he elected to proceed with revision acdf . \\xe2\\x81\\x87 anteroposterior ( a ) , lateral ( b ) , flexion ( c ) , and extension ( d ) radiographs at 6 months postoperatively showing migration of the bryan cervical disc device 2 mm anteriorly , without change in implant position on dynamic radiography .  \\xe2\\x81\\x87 anteroposterior ( a ) and lateral ( b ) immediate postoperative revision radiographs demonstrating an anterior cervical diskectomy and fusion at c5c6 . \\xe2\\x81\\x87 there are very few reports in the literature describing anterior migration of the bryan cervical disc after implantation,17  \\xe2\\x81\\x87  19  \\xe2\\x81\\x87  20 and none of these reports describes migration of the implant after low - energy trauma . \\xe2\\x81\\x87 posterior migration of the bryan cervical disc has been reported more commonly , but it also occurs infrequently and is not always associated with neurologic findings or symptom recurrence.21  \\xe2\\x81\\x87  22  \\xe2\\x81\\x87  23 these articles are summarized in table 1 . \\xe2\\x81\\x87 food and drug administration ide trials of the bryan cervical disc noted only one case of posterior migration of the device with resulting myelopathy more than 4 years postoperatively.15  \\xe2\\x81\\x87  abbreviation : cda , cervical disk arthroplasty . \\xe2\\x81\\x87 importantly , this case illustrates that the potential exists for a failure of bony ingrowth into these implants , even 6 months postoperatively . \\xe2\\x81\\x87 we hypothesize that the low - energy trauma to the upper cervical spine in this patient caused immediate neck flexion without internal bracing , because the patient was not aware of or expecting the trauma \\xe2\\x81\\x87 . although device migration is rare , the potential does exist for this complication to occur in a delayed fashion , and the physician must not only be aware of this potential but also appropriately counsel patients that it is possible . \\xe2\\x81\\x87 currently , our postoperative protocol for patients undergoing single - level cda is to immobilize for 1 to 2 weeks in a soft cervical collar as tolerated , followed by gradual resumption of normal activities . \\xe2\\x81\\x87 in asymptomatic patients , the device is considered fused to the adjacent end plates at 3 months , and all activity restrictions are lifted at that time . however , in light of this case and other findings of atraumatic migration at our institution,17 we are considering modification of our postoperative protocol for similar cda to delay the resumption of normal activities , which may theoretically protect the device and improve osseous integration . \\xe2\\x81\\x87 however , no effective imaging modality is currently available to ascertain the bony ingrowth into these devices , as the bone implant interface is often obscured from artifact interference on computed tomography scan , which further complicates the postoperative algorithm in such patients . despite these concerns \\xe2\\x81\\x87 , we do believe that cda is a safe , viable treatment alternative to acdf , as corroborated by recent literature.9  \\xe2\\x81\\x87  10  \\xe2\\x81\\x87  12  \\xe2\\x81\\x87  22  \\xe2\\x81\\x87  24  \\xe2\\x81\\x87  25  \\xe2\\x81\\x87  26  \\xe2\\x81\\x87  however , it is important to note that the device in this case is not perfectly placed in the interspace . although ideal anatomic placement of the arthroplasty is centered between the uncovertebral joints , the bryan cervical disc arthroplasty also requires milling of the end plate to provide press - fit stability . \\xe2\\x81\\x87 this particular case demonstrates that aggressive or nonuniform removal of the inferior end plate during the milling process may lead to asymmetrical seating of the implant . whether the imperfect placement of the device is related to the osseous ingrowth failure or ultimately to the traumatic migration of the implant \\xe2\\x81\\x87 is unclear ; however , this possibility can not be ignored . in conclusion , it is imperative that surgeons consider the potential for the failure of osseous integration in patients receiving cda , even beyond 3 to 6 months postoperatively . \\xe2\\x81\\x87 this concern is especially relevant to press - fit or milled devices like the bryan cervical disc , which lack direct fixation into the adjacent vertebral bodies . in patients outside the acute postoperative period \\xe2\\x81\\x87 , a low - energy trauma to the cervical spine can yield potentially devastating consequences , and in light of these findings a review of many institutional postoperative protocols may be beneficial .\"\n",
            " b'despite continuous progress in combinational treatment and radical surgery techniques , pancreatic ductal adenocarcinoma ( pdac ) remains the most lethal tumor , with an average 5-year survival rate below 6% . \\xe2\\x81\\x87 two prominent biological characteristics of pdac , hypoperfusion and desmoplasia , play leading roles in the formation of a hypoxic microenvironment . \\xe2\\x81\\x87 hypoxic inducible factor-1 ( hif-1 ) is a master regulator of cell adaption to hypoxia , and is highly expressed in 88% of pancreatic cancer tissues . \\xe2\\x81\\x87 previous studies showed the overexpression of hif-1 is correlated with poor prognosis , yet the underlying mechanism remains elusive.1 during the past several years , hao s research team27 have focused on understanding the role of hif-1 in pancreatic cancer and have published much innovative work in this field . \\xe2\\x81\\x87 they found that hif-1 g1790a and c1772 t single nucleotide polymorphisms appeared more frequently in pdac , and predicted higher risk for the development of pancreatic cancer . \\xe2\\x81\\x87 furthermore , the g1790a single nucleotide polymorphism was associated with expression of hif-1 protein and tumor progression.2 through direct upregulation of its target factors , hif-1 promoted cell proliferation through cyclophilin a ( cypa).3 in addition , hif-1 played a crucial role in the perineural invasion and metastasis of pancreatic cancer.3,4 fascin is an actin - bundling protein and is overexpressed in pancreatic cancer . \\xe2\\x81\\x87 hif-1 directly activated the expression of fascin and mediated pdac invasion through matrix metalloproteinase-2 ( mmp-2).4 another actin - bundling protein , lasp-1 ( lim and sh3 protein 1 ) , was also tightly regulated by hif-1 and promoted metastasis in orthotopic xenograft and immunocompetent mouse models of pdac.5 interestingly , hif-1 regulated the expression of chemokine ( c - x3-c motif ) receptor 1 ( cx3cr1 ) , and cx3cr1 activated hif-1 through the phosphoinositide 3-kinase ( pi3k ) and mitogen - activated protein kinase ( mapk ) pathways . \\xe2\\x81\\x87 the crosstalk between hif-1 and cx3cr1 mediated perineural invasion6 and the warburg effect of pdac.7 the outstanding work of hao et al has indicated that hif-1 represents a critical mediator connecting the hypoxic microenvironment and pancreatic cancer cells ( figure 1 ) . \\xe2\\x81\\x87 these findings suggest a new therapeutic strategy to inhibit pancreatic cancer growth by reprogramming the stroma to alleviate hypoxia , as recently shown in a study of vitamin d.8 a growing number of reagents have been developed to inhibit hif-1 activity , including those agents intended for use in clinical trials and us food and drug administration ( fda)-approved drugs . \\xe2\\x81\\x87 it is reasonable to introduce hif-1 inhibitors as new candidates for the treatment of pancreatic cancer . \\xe2\\x81\\x87 although hif-1 is well known to serve as a crucial oncogene , further details of how this transcription factor performs tumor mitogenic and migratory functions remain unknown . \\xe2\\x81\\x87 hao s recent work highlighted the experimental and clinical significance of hif-1 in pdac , which provides important bench - to - bedside  \\xe2\\x81\\x87 clues for utilizing this key transcription factor in the early diagnosis and personalized therapy for pdac . by further understanding the downstream target genes of hif-1 and how these are related to the tumorigenic and metastatic phenotype of pdac , hao et al take the leading role in functional and mechanistic studies of microenvironmental regulation of hypoxia . \\xe2\\x81\\x87 their research findings regarding hif-1 indicate that the monitoring and management of the hypoxic microenvironment is a promising approach to exploring the aggressive biological nature of pdac and improving the prognosis of this devastating malignancy .']\n",
            "\n",
            " Predicted summary:\n",
            " [b' \\xe2\\x81\\x87  study design case report .  \\xe2\\x81\\x87   \\xe2\\x81\\x87  objective the bryan cervical disc ( medtronic sofamor danek , memphis , tennessee , united states ) is unique among cervical disc arthroplasty devices in that it consists of two titanium shells encompassing a polyurethane nucleus .  \\xe2\\x81\\x87   \\xe2\\x81\\x87  methods a 36-year - old man presented with left upper extremity radicular symptoms and intermittent numbness .  \\xe2\\x81\\x87  magnetic resonance imaging ( mri ) showed a disk osteophyte complex resulting in moderate left and mild foraminal stenosis at c5c6 .  \\xe2\\x81\\x87  magnetic resonance imaging ( mri ) demonstrated complete resolution of his radicular symptoms at 6 weeks postoperatively .  \\xe2\\x81\\x87   \\xe2\\x81\\x87  results at 6 months postoperatively , the radiographs demonstrated maintenance of the position of the device without evidence of loosening .  \\xe2\\x81\\x87   \\xe2\\x81\\x87  conclusions although rare , the bryan cervical disc arthroplasty is a safe alternative to anterior cervical diskectomy and fusion .'\n",
            " b'pancreatic ductal adenocarcinoma ( pdac ) is the most lethal form of pancreatic cancer , with an average 5-year survival rate below 6% .  \\xe2\\x81\\x87  this devastating malignancy is characterized by hypoxia , hypoperfusion and desmoplasia .  \\xe2\\x81\\x87  recent studies have indicated that hypoxic inducible factor-1 ( hif-1 ) is a critical mediator of cell adaption to hypoxia and desmoplasia . in this review ,  \\xe2\\x81\\x87  we discuss the recent advances in the field of hif-1 research .']\n",
            "\n",
            " Ground truth summary:\n",
            " [b' \\xe2\\x81\\x87  study design case study .  \\xe2\\x81\\x87   \\xe2\\x81\\x87  objective to describe a case of dislodgment and migration of the bryan cervical disc ( medtronic sofamor danek , memphis , tennessee , united states ) arthroplasty more than 6 months after implantation secondary to low - energy trauma .  \\xe2\\x81\\x87   \\xe2\\x81\\x87  methods the inpatient , outpatient , and radiographic medical records of a patient with traumatic migration of the bryan cervical disc arthroplasty were reviewed .  \\xe2\\x81\\x87  the authors have no relevant disclosures to report .  \\xe2\\x81\\x87   \\xe2\\x81\\x87  results a 36-year - old man with chronic left upper extremity radiculopathy underwent uncomplicated bryan cervical disc arthroplasty at c5c6 , with complete resolution of his symptoms . approximately 6 months after his index procedure , he sustained low - energy trauma to the posterior cervical spine , after being struck by a book falling from a shelf .  \\xe2\\x81\\x87  the injury forced his neck into flexion , and though he did not have recurrence of his radiculopathy symptoms , radiographs demonstrated anterior migration of the arthroplasty device .  \\xe2\\x81\\x87  he underwent revision to anterior cervical diskectomy and fusion .  \\xe2\\x81\\x87   \\xe2\\x81\\x87  conclusions although extremely rare , it is imperative that surgeons consider the'\n",
            " b'the correlation between hypoxia and pancreatic cancer has long been discussed .  \\xe2\\x81\\x87  hao s research team made many efforts on revealing the oncogenic function of hypoxic inducible factor-1 ( hif-1 ) in pancreatic cancer progression and development in recent years .  \\xe2\\x81\\x87  based on their research , they linked micro - environmental regulation of pancreatic cancer and its clinical significance .  \\xe2\\x81\\x87  hao s research team suggests it is a promising approach to target hif-1 for the management of pancreatic cancer progression and invasion .']\n",
            "\n",
            "\n"
          ],
          "name": "stdout"
        }
      ]
    },
    {
      "cell_type": "code",
      "metadata": {
        "id": "2r55AitoHmmv"
      },
      "source": [
        ""
      ],
      "execution_count": null,
      "outputs": []
    },
    {
      "cell_type": "markdown",
      "metadata": {
        "id": "mXjkdtyKMAbP"
      },
      "source": [
        "## Eval"
      ]
    },
    {
      "cell_type": "code",
      "metadata": {
        "id": "-Mq_xhMzef42",
        "colab": {
          "base_uri": "https://localhost:8080/"
        },
        "outputId": "cce5c38a-4705-4834-c797-bfa894aa95dd"
      },
      "source": [
        "eval_input_fn = run_summarization.input_fn_builder(\n",
        "        data_dir=FLAGS.data_dir,\n",
        "        vocab_model_file=FLAGS.vocab_model_file,\n",
        "        max_encoder_length=FLAGS.max_encoder_length,\n",
        "        max_decoder_length=FLAGS.max_decoder_length,\n",
        "        substitute_newline=FLAGS.substitute_newline,\n",
        "        is_training=False)\n",
        "eval_dataset = eval_input_fn({'batch_size': 2})"
      ],
      "execution_count": null,
      "outputs": [
        {
          "output_type": "stream",
          "text": [
            "/usr/local/lib/python3.7/dist-packages/bigbird/summarization/run_summarization.py:205: UserWarning: Creating resources inside a function passed to Dataset.map() is not supported. Create each resource outside the function, and capture it inside the function to use it.\n",
            "  deterministic=is_training)\n"
          ],
          "name": "stderr"
        }
      ]
    },
    {
      "cell_type": "code",
      "metadata": {
        "id": "rqPN4R8kerUG"
      },
      "source": [
        "eval_llh = tf.keras.metrics.Mean(name='eval_llh')\n",
        "\n",
        "for ex in tqdm(eval_dataset, position=0):\n",
        "  llh, logits, pred_ids = fwd_only(ex[0], ex[1])\n",
        "  eval_llh(llh)\n",
        "print('Log Likelihood = {}'.format(eval_llh.result().numpy()))"
      ],
      "execution_count": null,
      "outputs": []
    }
  ]
}